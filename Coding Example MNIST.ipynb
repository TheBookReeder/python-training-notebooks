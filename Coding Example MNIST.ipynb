{
 "cells": [
  {
   "cell_type": "markdown",
   "metadata": {},
   "source": [
    "# Coding Example\n",
    "---\n",
    "![MNIST numbers](https://cdn-images-1.medium.com/max/1600/0*a0ejNYv_LCRP-E2t)\n",
    "This notebook serves to give you a taste of Machine Learning and the process one might go through to obtain a model with acceptable performance. \n",
    "\n",
    "The following example is the \"Hello World\" of ML. If you've ever come across an ML tutorial, this would most probably be one of the first things covered.\n",
    "\n",
    "It such a popular example since it can be as simple or complex as desired, touches on complex topics intuitively and has a high accuracy (unlike most real world applications of ML)"
   ]
  },
  {
   "cell_type": "markdown",
   "metadata": {},
   "source": [
    "We will be using python and a number of libraries. Please save any questions, write them down and we can dress them at the end."
   ]
  },
  {
   "cell_type": "code",
   "execution_count": 1,
   "metadata": {},
   "outputs": [
    {
     "name": "stderr",
     "output_type": "stream",
     "text": [
      "Using TensorFlow backend.\n"
     ]
    }
   ],
   "source": [
    "# Get the dataset for all the hand written numbers - already labelled!\n",
    "from keras.datasets import mnist"
   ]
  },
  {
   "cell_type": "markdown",
   "metadata": {},
   "source": [
    "![ease of python](https://imgs.xkcd.com/comics/python.png)"
   ]
  },
  {
   "cell_type": "markdown",
   "metadata": {},
   "source": [
    "## Good ol' fashioned way\n",
    "---\n",
    "We start with programming the \"math\" of a basic ML technique called k-Nearest Neighbor. In reality, we don't program such low level code - there are libraries that do it for you and most of the time do it better than you would ever be able to do it."
   ]
  },
  {
   "cell_type": "code",
   "execution_count": 3,
   "metadata": {},
   "outputs": [],
   "source": [
    "# numpy is like matlab or R in python (very rough statement)\n",
    "import numpy as np\n",
    "\n",
    "# The difference between two images can be found in many different ways, this is one of the more palatable\n",
    "def euclidean_distance(img_a, img_b):\n",
    "    '''Takes 2 matricies and does an element-wise operation to find the distance between 2 images: img_a, img_b'''\n",
    "    # element-wise computations are automatically handled by numpy\n",
    "    return sum((img_a - img_b) ** 2)"
   ]
  },
  {
   "cell_type": "code",
   "execution_count": 4,
   "metadata": {},
   "outputs": [],
   "source": [
    "# A high performance container that is never empty\n",
    "from collections import defaultdict\n",
    "\n",
    "# Once all distances has been found, using a 'voting' system, we look for which category a picture falls\n",
    "# into by looking at a certain number of neighbours\n",
    "def find_majority(labels):\n",
    "    '''Finds the majority class/label out of the given labels. I.e. if there are more \"1's\" around the test\n",
    "       data point then it must be a 1.'''\n",
    "    \n",
    "    # defaultdict(type) is to automatically add new keys without throwing error.\n",
    "    counter = defaultdict(int)\n",
    "    for label in labels:\n",
    "        counter[label] += 1\n",
    "\n",
    "    # Finding the majority class.\n",
    "    majority_count = max(counter.values())\n",
    "    for key, value in counter.items():\n",
    "        if value == majority_count:\n",
    "            return key"
   ]
  },
  {
   "cell_type": "code",
   "execution_count": 5,
   "metadata": {},
   "outputs": [],
   "source": [
    "# Setting up dataset as numpy array for faster mathematical operations. The mnist object contains operations which\n",
    "# does this all for you\n",
    "(train_images, train_labels), (test_images, test_labels) = mnist.load_data()"
   ]
  },
  {
   "cell_type": "code",
   "execution_count": 6,
   "metadata": {},
   "outputs": [
    {
     "name": "stdout",
     "output_type": "stream",
     "text": [
      "Shape of the (test) images: (10000, 28, 28)\n",
      "Shape of the (test) labels: (10000,)\n"
     ]
    }
   ],
   "source": [
    "print(\"Shape of the (test) images: {}\". format(test_images.shape))\n",
    "print(\"Shape of the (test) labels: {}\". format(test_labels.shape))"
   ]
  },
  {
   "cell_type": "code",
   "execution_count": 7,
   "metadata": {},
   "outputs": [],
   "source": [
    "# Currently the images are stores in an np.array of 28 np.arrays that each contain 28 numbers (for each pixel)\n",
    "# We need to flatten them into single np.arrays\n",
    "image_vector_size = 28*28\n",
    "train_images = train_images.reshape(train_images.shape[0], image_vector_size)\n",
    "test_images = test_images.reshape(test_images.shape[0], image_vector_size)"
   ]
  },
  {
   "cell_type": "code",
   "execution_count": 8,
   "metadata": {},
   "outputs": [
    {
     "name": "stdout",
     "output_type": "stream",
     "text": [
      "Shape of the (test) images: (10000, 784)\n",
      "Shape of the (test) labels: (10000,)\n"
     ]
    }
   ],
   "source": [
    "print(\"Shape of the (test) images: {}\". format(test_images.shape))\n",
    "print(\"Shape of the (test) labels: {}\". format(test_labels.shape))"
   ]
  },
  {
   "cell_type": "code",
   "execution_count": 9,
   "metadata": {},
   "outputs": [],
   "source": [
    "from operator import itemgetter\n",
    "\n",
    "# Using the two functions defined above, we can predict the category of a test image/matrix\n",
    "def predict(k, train_images, train_labels, test_images):\n",
    "    '''\n",
    "    Predicts the new data-point's category/label by \n",
    "    looking at all other training labels\n",
    "    '''\n",
    "    # distances contains tuples of (distance, label)\n",
    "    distances = [(euclidean_distance(test_image, image), label)\n",
    "                    for (image, label) in zip(train_images, train_labels)]\n",
    "    # sort the distances list by distances\n",
    "    by_distances = sorted(distances, key=lambda x : x[0])\n",
    "    # extract only k closest labels\n",
    "    k_labels = [label for (_, label) in by_distances[:k]]\n",
    "    # return the majority voted label\n",
    "    return find_majority(k_labels)"
   ]
  },
  {
   "cell_type": "code",
   "execution_count": 10,
   "metadata": {},
   "outputs": [
    {
     "name": "stdout",
     "output_type": "stream",
     "text": [
      "test image[0] \tpred: 7 \torig: 7 \tacc: 100.0%\n",
      "test image[10] \tpred: 4 \torig: 0 \tacc: 36.36%\n",
      "test image[20] \tpred: 7 \torig: 9 \tacc: 33.33%\n",
      "test image[30] \tpred: 1 \torig: 3 \tacc: 29.03%\n"
     ]
    },
    {
     "ename": "KeyboardInterrupt",
     "evalue": "",
     "output_type": "error",
     "traceback": [
      "\u001b[0;31m---------------------------------------------------------------------------\u001b[0m",
      "\u001b[0;31mKeyboardInterrupt\u001b[0m                         Traceback (most recent call last)",
      "\u001b[0;32m<timed exec>\u001b[0m in \u001b[0;36m<module>\u001b[0;34m\u001b[0m\n",
      "\u001b[0;32m<ipython-input-9-e64a0e0c835b>\u001b[0m in \u001b[0;36mpredict\u001b[0;34m(k, train_images, train_labels, test_images)\u001b[0m\n\u001b[1;32m      9\u001b[0m     \u001b[0;31m# distances contains tuples of (distance, label)\u001b[0m\u001b[0;34m\u001b[0m\u001b[0;34m\u001b[0m\u001b[0;34m\u001b[0m\u001b[0m\n\u001b[1;32m     10\u001b[0m     distances = [(euclidean_distance(test_image, image), label)\n\u001b[0;32m---> 11\u001b[0;31m                     for (image, label) in zip(train_images, train_labels)]\n\u001b[0m\u001b[1;32m     12\u001b[0m     \u001b[0;31m# sort the distances list by distances\u001b[0m\u001b[0;34m\u001b[0m\u001b[0;34m\u001b[0m\u001b[0;34m\u001b[0m\u001b[0m\n\u001b[1;32m     13\u001b[0m     \u001b[0mby_distances\u001b[0m \u001b[0;34m=\u001b[0m \u001b[0msorted\u001b[0m\u001b[0;34m(\u001b[0m\u001b[0mdistances\u001b[0m\u001b[0;34m,\u001b[0m \u001b[0mkey\u001b[0m\u001b[0;34m=\u001b[0m\u001b[0;32mlambda\u001b[0m \u001b[0mx\u001b[0m \u001b[0;34m:\u001b[0m \u001b[0mx\u001b[0m\u001b[0;34m[\u001b[0m\u001b[0;36m0\u001b[0m\u001b[0;34m]\u001b[0m\u001b[0;34m)\u001b[0m\u001b[0;34m\u001b[0m\u001b[0;34m\u001b[0m\u001b[0m\n",
      "\u001b[0;32m<ipython-input-9-e64a0e0c835b>\u001b[0m in \u001b[0;36m<listcomp>\u001b[0;34m(.0)\u001b[0m\n\u001b[1;32m      9\u001b[0m     \u001b[0;31m# distances contains tuples of (distance, label)\u001b[0m\u001b[0;34m\u001b[0m\u001b[0;34m\u001b[0m\u001b[0;34m\u001b[0m\u001b[0m\n\u001b[1;32m     10\u001b[0m     distances = [(euclidean_distance(test_image, image), label)\n\u001b[0;32m---> 11\u001b[0;31m                     for (image, label) in zip(train_images, train_labels)]\n\u001b[0m\u001b[1;32m     12\u001b[0m     \u001b[0;31m# sort the distances list by distances\u001b[0m\u001b[0;34m\u001b[0m\u001b[0;34m\u001b[0m\u001b[0;34m\u001b[0m\u001b[0m\n\u001b[1;32m     13\u001b[0m     \u001b[0mby_distances\u001b[0m \u001b[0;34m=\u001b[0m \u001b[0msorted\u001b[0m\u001b[0;34m(\u001b[0m\u001b[0mdistances\u001b[0m\u001b[0;34m,\u001b[0m \u001b[0mkey\u001b[0m\u001b[0;34m=\u001b[0m\u001b[0;32mlambda\u001b[0m \u001b[0mx\u001b[0m \u001b[0;34m:\u001b[0m \u001b[0mx\u001b[0m\u001b[0;34m[\u001b[0m\u001b[0;36m0\u001b[0m\u001b[0;34m]\u001b[0m\u001b[0;34m)\u001b[0m\u001b[0;34m\u001b[0m\u001b[0;34m\u001b[0m\u001b[0m\n",
      "\u001b[0;32m<ipython-input-3-938aaadd29e1>\u001b[0m in \u001b[0;36meuclidean_distance\u001b[0;34m(img_a, img_b)\u001b[0m\n\u001b[1;32m      6\u001b[0m     \u001b[0;34m'''Takes 2 matricies and does an element-wise operation to find the distance between 2 images: img_a, img_b'''\u001b[0m\u001b[0;34m\u001b[0m\u001b[0;34m\u001b[0m\u001b[0m\n\u001b[1;32m      7\u001b[0m     \u001b[0;31m# element-wise computations are automatically handled by numpy\u001b[0m\u001b[0;34m\u001b[0m\u001b[0;34m\u001b[0m\u001b[0;34m\u001b[0m\u001b[0m\n\u001b[0;32m----> 8\u001b[0;31m     \u001b[0;32mreturn\u001b[0m \u001b[0msum\u001b[0m\u001b[0;34m(\u001b[0m\u001b[0;34m(\u001b[0m\u001b[0mimg_a\u001b[0m \u001b[0;34m-\u001b[0m \u001b[0mimg_b\u001b[0m\u001b[0;34m)\u001b[0m \u001b[0;34m**\u001b[0m \u001b[0;36m2\u001b[0m\u001b[0;34m)\u001b[0m\u001b[0;34m\u001b[0m\u001b[0;34m\u001b[0m\u001b[0m\n\u001b[0m",
      "\u001b[0;31mKeyboardInterrupt\u001b[0m: "
     ]
    }
   ],
   "source": [
    "%%time\n",
    "# Now run the model, choosing a k of 10 (looking at 10 neighbours)\n",
    "# We will only look at the first 100 images since it takes too long to run on more\n",
    "i = 0\n",
    "total_correct = 0\n",
    "for test_image in test_images:\n",
    "    pred = predict(10, train_images, train_labels, test_image)\n",
    "    if pred == test_labels[i]:\n",
    "        total_correct += 1\n",
    "    acc = (total_correct / (i+1)) * 100\n",
    "    if i%10 == 0:\n",
    "        print('test image['+str(i)+']', '\\tpred:', pred, '\\torig:', test_labels[i], '\\tacc:', str(round(acc, 2))+'%')\n",
    "    if i > 100:\n",
    "        break\n",
    "    i += 1"
   ]
  },
  {
   "cell_type": "markdown",
   "metadata": {},
   "source": [
    "This model achieves and accuracy of 32% - approx. 1/3 predictions are correct. Which is much higher than a random number generator of 1/10 (for the 10 labels). And it took 10 minutes to run just 100 images.\n",
    "\n",
    "However, we can do much better. Let's try a shallow Neural Net, more properly known as a multi-layer perceptron (MLP) model, and look at the power of Keras!"
   ]
  },
  {
   "cell_type": "code",
   "execution_count": 11,
   "metadata": {},
   "outputs": [],
   "source": [
    "import keras\n",
    "(x_train, y_train), (x_test, y_test) = mnist.load_data()\n",
    "\n",
    "image_vector_size = 28*28\n",
    "x_train = x_train.reshape(x_train.shape[0], image_vector_size)\n",
    "x_test = x_test.reshape(x_test.shape[0], image_vector_size)"
   ]
  },
  {
   "cell_type": "code",
   "execution_count": 12,
   "metadata": {},
   "outputs": [
    {
     "name": "stdout",
     "output_type": "stream",
     "text": [
      "First 5 training lables as one-hot encoded vectors:\n",
      " [[0. 0. 0. 0. 0. 1. 0. 0. 0. 0.]\n",
      " [1. 0. 0. 0. 0. 0. 0. 0. 0. 0.]\n",
      " [0. 0. 0. 0. 1. 0. 0. 0. 0. 0.]\n",
      " [0. 1. 0. 0. 0. 0. 0. 0. 0. 0.]\n",
      " [0. 0. 0. 0. 0. 0. 0. 0. 0. 1.]]\n"
     ]
    }
   ],
   "source": [
    "# When dealing with multiple categories and MLPs it is best practice to convert the label vector to a matrix of\n",
    "# 0s and 1s with as many features as there are unique labels. This process is called one-hot-encoding\n",
    "\n",
    "# The one-hot-encoding of [5, 0, 4, 1, 9] is\n",
    "# [[0, 0, 0, 0, 0, 1, 0, 0, 0, 0]\n",
    "#  [1, 0, 0, 0, 0, 0, 0, 0, 0, 0]\n",
    "#  [0, 0, 0, 0, 1, 0, 0, 0, 0, 0]\n",
    "#  [0, 1, 0, 0, 0, 0, 0, 0, 0, 0]\n",
    "#  [0, 0, 0, 0, 0, 0, 0, 0, 0, 1]]\n",
    "#   0, 1, 2, 3, 4, 5, 6, 7, 8, 9 <- added for reference, not really there\n",
    "\n",
    "# keras makes our life easy here\n",
    "num_classes = 10\n",
    "y_train = keras.utils.to_categorical(y_train, num_classes)\n",
    "y_test = keras.utils.to_categorical(y_test, num_classes)\n",
    "\n",
    "print(\"First 5 training lables as one-hot encoded vectors:\\n\", y_train[:5])"
   ]
  },
  {
   "cell_type": "code",
   "execution_count": 13,
   "metadata": {},
   "outputs": [
    {
     "name": "stdout",
     "output_type": "stream",
     "text": [
      "WARNING:tensorflow:From /Users/tim/miniconda3/lib/python3.7/site-packages/tensorflow/python/framework/op_def_library.py:263: colocate_with (from tensorflow.python.framework.ops) is deprecated and will be removed in a future version.\n",
      "Instructions for updating:\n",
      "Colocations handled automatically by placer.\n",
      "_________________________________________________________________\n",
      "Layer (type)                 Output Shape              Param #   \n",
      "=================================================================\n",
      "dense_1 (Dense)              (None, 32)                25120     \n",
      "_________________________________________________________________\n",
      "dense_2 (Dense)              (None, 10)                330       \n",
      "=================================================================\n",
      "Total params: 25,450\n",
      "Trainable params: 25,450\n",
      "Non-trainable params: 0\n",
      "_________________________________________________________________\n"
     ]
    }
   ],
   "source": [
    "from keras.layers import Dense # Dense layers are \"fully connected\" layers (will make more sense when we look at CNNs)\n",
    "from keras.models import Sequential # A model that doesn't include inception (don't need to worry about this)\n",
    "\n",
    "image_size = 784 # 28*28\n",
    "\n",
    "# Create a blank canvas for us to create a model on\n",
    "model = Sequential() \n",
    "\n",
    "# The input layer requires the special input_shape parameter which should match the shape of our training data.\n",
    "model.add(Dense(units=32, activation='sigmoid', input_shape=(image_size,)))\n",
    "model.add(Dense(units=num_classes, activation='softmax'))\n",
    "model.summary()"
   ]
  },
  {
   "cell_type": "markdown",
   "metadata": {},
   "source": [
    "![neural net axample](https://cdn-images-1.medium.com/max/1600/1*XdCMCaHPt-pqtEibUfAnNw.png)"
   ]
  },
  {
   "cell_type": "code",
   "execution_count": 14,
   "metadata": {},
   "outputs": [],
   "source": [
    "%matplotlib inline\n",
    "import matplotlib.pyplot as plt"
   ]
  },
  {
   "cell_type": "code",
   "execution_count": 15,
   "metadata": {},
   "outputs": [
    {
     "name": "stdout",
     "output_type": "stream",
     "text": [
      "WARNING:tensorflow:From /Users/tim/miniconda3/lib/python3.7/site-packages/tensorflow/python/ops/math_ops.py:3066: to_int32 (from tensorflow.python.ops.math_ops) is deprecated and will be removed in a future version.\n",
      "Instructions for updating:\n",
      "Use tf.cast instead.\n"
     ]
    },
    {
     "data": {
      "image/png": "[encoded data removed]",
      "text/plain": [
       "<Figure size 432x288 with 1 Axes>"
      ]
     },
     "metadata": {
      "needs_background": "light"
     },
     "output_type": "display_data"
    },
    {
     "name": "stdout",
     "output_type": "stream",
     "text": [
      "Test loss: 0.461\n",
      "Test accuracy: 0.895\n",
      "CPU times: user 4.66 s, sys: 950 ms, total: 5.61 s\n",
      "Wall time: 2.26 s\n"
     ]
    }
   ],
   "source": [
    "%%time\n",
    "# We have our model on our canvas, let's compile it, train it and test it\n",
    "# Don't worry about the parameters but we can discuss them later if you would like\n",
    "model.compile(optimizer=\"sgd\", loss='categorical_crossentropy', metrics=['accuracy'])\n",
    "history = model.fit(x_train, y_train, batch_size=128, epochs=5, verbose=False, validation_split=.1)\n",
    "loss, accuracy = model.evaluate(x_test, y_test, verbose=False)\n",
    "\n",
    "plt.plot(history.history['acc'])\n",
    "plt.plot(history.history['val_acc'])\n",
    "plt.title('model accuracy')\n",
    "plt.ylabel('accuracy')\n",
    "plt.xlabel('epoch')\n",
    "plt.legend(['training', 'validation'], loc='best')\n",
    "plt.show()\n",
    "\n",
    "print(f'Test loss: {loss:.3}')\n",
    "print(f'Test accuracy: {accuracy:.3}')"
   ]
  },
  {
   "cell_type": "markdown",
   "metadata": {},
   "source": [
    "An MLP has bumped the accuracy up from 3/10 to 9/10! This is a great indicator of the power of Neural Networks. Plus, this all ran in 2.47s and it ran on theentire data set!\n",
    "\n",
    "To take things one step further, especially with image recognition, we will look at Convolutional Neural Networks\n",
    "\n",
    "![CNN](https://cdn-images-1.medium.com/max/1600/1*V7YGj0ZWil9V-i0k74QVSQ.png)"
   ]
  },
  {
   "cell_type": "code",
   "execution_count": 16,
   "metadata": {},
   "outputs": [],
   "source": [
    "# Get the data (again)\n",
    "(x_train, y_train), (x_test, y_test) = mnist.load_data()\n",
    "\n",
    "# Reshaping the array to 4-dims so that it can work with the Keras API\n",
    "x_train = x_train.reshape(x_train.shape[0], 28, 28, 1)\n",
    "x_test = x_test.reshape(x_test.shape[0], 28, 28, 1)\n",
    "input_shape = (28, 28, 1)\n",
    "\n",
    "# Making sure that the values are float so that we can get decimal points after division\n",
    "x_train = x_train.astype('float32')\n",
    "x_test = x_test.astype('float32')\n",
    "\n",
    "# Normalizing the RGB codes by dividing it to the max RGB value.\n",
    "x_train /= 255\n",
    "x_test /= 255"
   ]
  },
  {
   "cell_type": "code",
   "execution_count": 17,
   "metadata": {},
   "outputs": [
    {
     "name": "stdout",
     "output_type": "stream",
     "text": [
      "WARNING:tensorflow:From /Users/tim/miniconda3/lib/python3.7/site-packages/keras/backend/tensorflow_backend.py:3445: calling dropout (from tensorflow.python.ops.nn_ops) with keep_prob is deprecated and will be removed in a future version.\n",
      "Instructions for updating:\n",
      "Please use `rate` instead of `keep_prob`. Rate should be set to `rate = 1 - keep_prob`.\n"
     ]
    }
   ],
   "source": [
    "# Importing the required Keras modules containing model and layers\n",
    "import tensorflow as tf\n",
    "from keras.models import Sequential\n",
    "from keras.layers import Dense, Conv2D, Dropout, Flatten, MaxPooling2D\n",
    "\n",
    "# Creating a Sequential Model and adding the layers\n",
    "model = Sequential()\n",
    "\n",
    "model.add(Conv2D(28, kernel_size=(3,3), input_shape=input_shape))\n",
    "model.add(MaxPooling2D(pool_size=(2, 2)))\n",
    "model.add(Flatten()) # Flattening the 2D arrays for fully connected layers\n",
    "model.add(Dense(128, activation=tf.nn.relu))\n",
    "model.add(Dropout(0.2))\n",
    "model.add(Dense(10,activation=tf.nn.softmax))"
   ]
  },
  {
   "cell_type": "markdown",
   "metadata": {},
   "source": [
    "![CNN Overview](https://cdn-images-1.medium.com/max/1600/1*5A4b1qOZIr4Q6SKceqGn7w.jpeg)"
   ]
  },
  {
   "cell_type": "code",
   "execution_count": 18,
   "metadata": {},
   "outputs": [
    {
     "name": "stdout",
     "output_type": "stream",
     "text": [
      "Epoch 1/10\n",
      "60000/60000 [==============================] - 16s 266us/step - loss: 0.2216 - acc: 0.9335\n",
      "Epoch 2/10\n",
      "60000/60000 [==============================] - 16s 265us/step - loss: 0.0906 - acc: 0.9725\n",
      "Epoch 3/10\n",
      "60000/60000 [==============================] - 16s 264us/step - loss: 0.0639 - acc: 0.9804\n",
      "Epoch 4/10\n",
      "60000/60000 [==============================] - 16s 263us/step - loss: 0.0471 - acc: 0.9852\n",
      "Epoch 5/10\n",
      "60000/60000 [==============================] - 16s 262us/step - loss: 0.0396 - acc: 0.9874\n",
      "Epoch 6/10\n",
      "60000/60000 [==============================] - 16s 262us/step - loss: 0.0323 - acc: 0.9895\n",
      "Epoch 7/10\n",
      "60000/60000 [==============================] - 16s 264us/step - loss: 0.0270 - acc: 0.9907\n",
      "Epoch 8/10\n",
      "60000/60000 [==============================] - 16s 265us/step - loss: 0.0237 - acc: 0.9919\n",
      "Epoch 9/10\n",
      "60000/60000 [==============================] - 16s 268us/step - loss: 0.0210 - acc: 0.9929\n",
      "Epoch 10/10\n",
      "60000/60000 [==============================] - 16s 267us/step - loss: 0.0207 - acc: 0.9928\n",
      "CPU times: user 18min 5s, sys: 1min 19s, total: 19min 24s\n",
      "Wall time: 2min 39s\n"
     ]
    }
   ],
   "source": [
    "%%time\n",
    "model.compile(optimizer='adam', \n",
    "              loss='sparse_categorical_crossentropy', \n",
    "              metrics=['accuracy'])\n",
    "model.fit(x=x_train,y=y_train, epochs=10)"
   ]
  },
  {
   "cell_type": "code",
   "execution_count": 19,
   "metadata": {},
   "outputs": [
    {
     "name": "stdout",
     "output_type": "stream",
     "text": [
      "10000/10000 [==============================] - 1s 58us/step\n"
     ]
    },
    {
     "data": {
      "text/plain": [
       "[0.06681454011008536, 0.984]"
      ]
     },
     "execution_count": 19,
     "metadata": {},
     "output_type": "execute_result"
    }
   ],
   "source": [
    "model.evaluate(x_test, y_test)"
   ]
  },
  {
   "cell_type": "markdown",
   "metadata": {},
   "source": [
    "98.52%\n",
    "\n",
    "As good, if not better than humans. As an exercise we could go through the ones it predicts wrong ..."
   ]
  },
  {
   "cell_type": "code",
   "execution_count": 20,
   "metadata": {},
   "outputs": [
    {
     "name": "stdout",
     "output_type": "stream",
     "text": [
      "10000/10000 [==============================] - 0s 43us/step\n"
     ]
    }
   ],
   "source": [
    "incorrects = np.nonzero(model.predict_classes(x_test).reshape((-1,)) != y_test)\n",
    "values = model.predict_classes(x_test, verbose=1)"
   ]
  },
  {
   "cell_type": "code",
   "execution_count": 21,
   "metadata": {},
   "outputs": [
    {
     "data": {
      "text/plain": [
       "(array([  18,   92,  149,  290,  321,  340,  445,  448,  449,  495,  543,\n",
       "         582,  646,  691,  740,  846,  882,  883,  947,  965, 1014, 1039,\n",
       "        1181, 1226, 1232, 1247, 1260, 1319, 1378, 1393, 1394, 1425, 1522,\n",
       "        1530, 1611, 1621, 1678, 1681, 1709, 1717, 1790, 1878, 1901, 1955,\n",
       "        2040, 2044, 2070, 2098, 2118, 2130, 2182, 2189, 2224, 2272, 2280,\n",
       "        2293, 2414, 2437, 2462, 2488, 2597, 2654, 2720, 2730, 2760, 2896,\n",
       "        2921, 2939, 2953, 2995, 3060, 3073, 3225, 3289, 3448, 3475, 3520,\n",
       "        3558, 3559, 3580, 3626, 3662, 3727, 3751, 3762, 3778, 3780, 3853,\n",
       "        3869, 3902, 3906, 4027, 4075, 4078, 4123, 4156, 4163, 4176, 4199,\n",
       "        4248, 4294, 4360, 4382, 4477, 4497, 4578, 4601, 4639, 4761, 4807,\n",
       "        4823, 4880, 4956, 5067, 5331, 5642, 5734, 5887, 5936, 5955, 5973,\n",
       "        6011, 6023, 6059, 6091, 6112, 6157, 6166, 6172, 6555, 6574, 6576,\n",
       "        6597, 6603, 6625, 6651, 6755, 6783, 6847, 7216, 7797, 7849, 7858,\n",
       "        8059, 8094, 8246, 8325, 9009, 9015, 9024, 9587, 9634, 9664, 9729,\n",
       "        9755, 9768, 9770, 9811, 9839, 9944]),)"
      ]
     },
     "execution_count": 21,
     "metadata": {},
     "output_type": "execute_result"
    }
   ],
   "source": [
    "incorrects"
   ]
  },
  {
   "cell_type": "code",
   "execution_count": 24,
   "metadata": {},
   "outputs": [
    {
     "data": {
      "image/png": "[encoded data removed]",
      "text/plain": [
       "<Figure size 432x288 with 1 Axes>"
      ]
     },
     "metadata": {
      "needs_background": "light"
     },
     "output_type": "display_data"
    }
   ],
   "source": [
    "ind = 149\n",
    "\n",
    "pixels = x_test[ind]\n",
    "pixels = pixels.reshape((28, 28))\n",
    "\n",
    "# Plot\n",
    "plt.title('Predicted is {}, actual is {}'.format(values[ind], y_test[ind]))\n",
    "plt.imshow(pixels, cmap='gray')\n",
    "plt.show()"
   ]
  },
  {
   "cell_type": "code",
   "execution_count": null,
   "metadata": {},
   "outputs": [],
   "source": []
  }
 ],
 "metadata": {
  "kernelspec": {
   "display_name": "Python 3",
   "language": "python",
   "name": "python3"
  },
  "language_info": {
   "codemirror_mode": {
    "name": "ipython",
    "version": 3
   },
   "file_extension": ".py",
   "mimetype": "text/x-python",
   "name": "python",
   "nbconvert_exporter": "python",
   "pygments_lexer": "ipython3",
   "version": "3.7.1"
  }
 },
 "nbformat": 4,
 "nbformat_minor": 2
}
