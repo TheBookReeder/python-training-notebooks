{
 "cells": [
  {
   "cell_type": "markdown",
   "metadata": {},
   "source": [
    "# Object Orientated Programming\n",
    "---\n",
    "\n",
    "This notebook serves as an introduction to Object Oriented programming.\n",
    "\n",
    "By the end of this you should:\n",
    "- Know what a class is and how to create one\n",
    "- Know how classes and objects relate to each other\n",
    "- Know what inheritance is and how to implement it"
   ]
  },
  {
   "cell_type": "code",
   "execution_count": 2,
   "metadata": {},
   "outputs": [],
   "source": [
    "import sys, os, math, random, functools\n",
    "\n",
    "import numpy as np\n",
    "\n",
    "import matplotlib\n",
    "import matplotlib.pyplot as pp\n",
    "import matplotlib.animation as anim\n",
    "\n",
    "from IPython.display import display, HTML\n",
    "\n",
    "class Pen(object):\n",
    "    deg = math.pi/180.0\n",
    "    \n",
    "    def __init__(self,paper,colour='b'):\n",
    "        # initialize state\n",
    "        self.pos = (0,0)\n",
    "        self.draw = True \n",
    "        self.angle = 0\n",
    "        \n",
    "        self.axes = paper.axes\n",
    "        self.color = colour\n",
    "        \n",
    "    def forward(self,distance):\n",
    "        # compute new position\n",
    "        posnew = (self.pos[0] + distance*math.cos(self.deg * self.angle),\n",
    "                  self.pos[1] + distance*math.sin(self.deg * self.angle))\n",
    "        \n",
    "        # draw line if pen is down\n",
    "        if self.draw:\n",
    "            line2d = pp.Line2D((self.pos[0],posnew[0]),(self.pos[1],posnew[1]),color=self.color)\n",
    "            self.axes.add_line(line2d) # 1\n",
    "        \n",
    "        self.pos = posnew\n",
    "\n",
    "    def back(self,distance):\n",
    "        self.forward(-distance)            \n",
    "            \n",
    "    def left(self,angle):\n",
    "        # change state\n",
    "         self.angle = (self.angle + angle) % 360.0\n",
    "\n",
    "    def right(self,angle):\n",
    "        # change state\n",
    "         self.angle = (self.angle - angle) % 360.0\n",
    "            \n",
    "    def penup(self):\n",
    "        # change state\n",
    "        self.draw = False\n",
    "    \n",
    "    def pendown(self):\n",
    "        # change state\n",
    "        self.draw = True\n",
    "    \n",
    "    def point(self,width=2):\n",
    "        circle = pp.Circle(self.pos,width,color=self.color)\n",
    "        self.axes.add_patch(circle)\n",
    "        \n",
    "class animaxes(object):\n",
    "    def __init__(self,fig,axes,duration=1):\n",
    "        self.fig = fig\n",
    "        self.axes = axes\n",
    "        \n",
    "        # grant access to true matplotlib axes to allow Terrarium.rescale()\n",
    "        self.axis = axes.axis\n",
    "        \n",
    "        self.duration = duration        \n",
    "        self.objects = []\n",
    "    \n",
    "    def add_line(self,line):\n",
    "        self.axes.add_line(line)\n",
    "        self.objects.append(line)\n",
    "        \n",
    "    def add_patch(self,patch):\n",
    "        self.axes.add_patch(patch)\n",
    "        self.objects.append(patch)\n",
    "        \n",
    "    def animate(self,i):\n",
    "        for obj in self.objects[i*self.dt:(i+1)*self.dt]:\n",
    "            if isinstance(obj,matplotlib.lines.Line2D):\n",
    "                self.axes.add_line(obj)\n",
    "            else:\n",
    "                self.axes.add_patch(obj)\n",
    "    \n",
    "    def animation(self):\n",
    "        self.dt = max(1,int(len(self.objects) / (self.duration * 30)))\n",
    "        n = math.ceil(len(self.objects) / self.dt)        \n",
    "        rate = self.duration * 1000 / n\n",
    "        \n",
    "        self.axes.clear()\n",
    "        self.axes.set_xticks([])\n",
    "        self.axes.set_yticks([])\n",
    "        for spine in ['bottom','top','left','right']:\n",
    "            self.axes.spines[spine].set_color('0.9')\n",
    "        \n",
    "        return matplotlib.animation.FuncAnimation(self.fig,self.animate,blit=False,\n",
    "                                                  frames=n,interval=rate,repeat=False)    \n",
    "    \n",
    "class Paper(object):    \n",
    "    def __init__(self,figsize=5,animate=False,duration=2): # by default, a little larger\n",
    "        self.fig = pp.figure(figsize=(figsize,figsize))\n",
    "        self.axes = pp.axes()\n",
    "        \n",
    "        self.axes.set_xticks([])\n",
    "        self.axes.set_yticks([])\n",
    "        for spine in ['bottom','top','left','right']:\n",
    "            self.axes.spines[spine].set_color('0.9')\n",
    "        \n",
    "        if animate:\n",
    "            self.axes = animaxes(self.fig,self.axes,duration)\n",
    "\n",
    "    def rescale(self):\n",
    "        self.axes.axis('scaled')\n",
    "\n",
    "        xmin, xmax, ymin, ymax = self.axes.axis()\n",
    "        dx = (xmax - xmin) / 50\n",
    "        self.axes.axis([xmin - dx,xmax + dx,ymin - dx,ymax + dx])\n",
    "            \n",
    "    def __enter__(self):\n",
    "        return self\n",
    "    \n",
    "    def __exit__(self,*args):\n",
    "        self.rescale()\n",
    "        \n",
    "        if isinstance(self.axes,animaxes):\n",
    "            anim = self.axes.animation()\n",
    "            display(HTML(anim.to_html5_video()))\n",
    "            pp.close()\n",
    "\n",
    "# https://www.linkedin.com/learning/python-programming-efficiently/divide-and-conquer-with-python-classes?u=2040068"
   ]
  },
  {
   "cell_type": "markdown",
   "metadata": {},
   "source": [
    "### Objects\n",
    "In the below cells we will be using an Object. The class will be created in the background but the below will just get you comfortable using the methods that are associated with an object. It might feel familiar to you since we use objects often without even realising. If you have ever used pandas DataFrames, you are actually working with an object (of the class DataFrame)"
   ]
  },
  {
   "cell_type": "markdown",
   "metadata": {},
   "source": [
    "The object we will be working with is built off a simple concept: a pen. We have a pen that can move across a page and we need to tell it what to do using the methods: forward(), back(), left(), right(), penup(), pendown()"
   ]
  },
  {
   "cell_type": "code",
   "execution_count": 3,
   "metadata": {},
   "outputs": [
    {
     "data": {
      "image/png": "[encoded data removed]",
      "text/plain": [
       "<Figure size 360x360 with 1 Axes>"
      ]
     },
     "metadata": {},
     "output_type": "display_data"
    }
   ],
   "source": [
    "t = Paper() # Create a piece of paper (an object that allows us to draw in a space)\n",
    "\n",
    "t1 = Pen(t) # Create a pen - default colour blue (an object that draws in the space passed to it)\n",
    "\n",
    "# t1 = Pen(t, colour='r')  # would make a red pen\n",
    "\n",
    "t1.forward(100) # The method in the Pen object that moves the pen forward 100 pixels\n",
    "t1.left(90)     # Method that rotates pen 90 degrees left\n",
    "t1.forward(150)\n",
    "t1.right(45)\n",
    "t1.back(100)    # Moves pen backwards, even though it is facing NE, it will draw SW\n",
    "\n",
    "t.rescale()     # A method in Paper that rescales the paper to fit all the drawings"
   ]
  },
  {
   "cell_type": "code",
   "execution_count": 4,
   "metadata": {},
   "outputs": [
    {
     "data": {
      "image/png": "[encoded data removed]",
      "text/plain": [
       "<Figure size 360x360 with 1 Axes>"
      ]
     },
     "metadata": {},
     "output_type": "display_data"
    }
   ],
   "source": [
    "\n",
    "# YOUR CODE HERE\n",
    "p = Paper()\n",
    "\n",
    "pen1 = Pen(p, colour='r') # red pen\n",
    "pen2 = Pen(p, colour='g') # green pen\n",
    "pen3 = Pen(p, colour='b') # blue pen\n",
    "\n",
    "pen1.left(90)\n",
    "pen1.forward(150)\n",
    "pen1.right(90)\n",
    "pen1.forward(100)\n",
    "\n",
    "pen3.forward(100)\n",
    "pen3.left(90)\n",
    "pen3.forward(150)\n",
    "\n",
    "pen2.left(56.45)\n",
    "pen2.forward(180.27)\n",
    "\n",
    "p.rescale()"
   ]
  },
  {
   "cell_type": "code",
   "execution_count": 5,
   "metadata": {},
   "outputs": [],
   "source": [
    "# A recursive function to draw a Koch\n",
    "# This shows how creating something fairly complex can be made easy with objects\n",
    "def drawkoch(pen,distance,level):\n",
    "    \n",
    "    if level == 0:\n",
    "        # At the base of the recursion: draw a line\n",
    "        pen.forward(distance)\n",
    "        \n",
    "    else:\n",
    "        # Go one level down in the koch recursion and shorten the line \n",
    "        # (can be seen as creating a ratio of koch level to line length)\n",
    "        drawkoch(pen,distance/3,level-1)\n",
    "        \n",
    "        # Rotate pen\n",
    "        pen.left(60)\n",
    "        \n",
    "        # Repeat\n",
    "        drawkoch(pen,distance/3,level-1)\n",
    "        pen.left(-120)\n",
    "        drawkoch(pen,distance/3,level-1)\n",
    "        pen.left(60)\n",
    "        drawkoch(pen,distance/3,level-1)"
   ]
  },
  {
   "cell_type": "code",
   "execution_count": 6,
   "metadata": {},
   "outputs": [
    {
     "data": {
      "image/png": "[encoded data removed]",
      "text/plain": [
       "<Figure size 360x360 with 1 Axes>"
      ]
     },
     "metadata": {},
     "output_type": "display_data"
    }
   ],
   "source": [
    "# Level 0, as expected, just a line\n",
    "with Paper() as t:\n",
    "    drawkoch(Pen(t),100,0)"
   ]
  },
  {
   "cell_type": "code",
   "execution_count": 7,
   "metadata": {},
   "outputs": [
    {
     "data": {
      "image/png": "[encoded data removed]",
      "text/plain": [
       "<Figure size 360x360 with 1 Axes>"
      ]
     },
     "metadata": {},
     "output_type": "display_data"
    }
   ],
   "source": [
    "# Level 1, 4 lines, each is 3rd as long as the original line\n",
    "with Paper() as t:\n",
    "    drawkoch(Pen(t),100,1)"
   ]
  },
  {
   "cell_type": "code",
   "execution_count": 8,
   "metadata": {},
   "outputs": [
    {
     "data": {
      "image/png": "[encoded data removed]",
      "text/plain": [
       "<Figure size 360x360 with 1 Axes>"
      ]
     },
     "metadata": {},
     "output_type": "display_data"
    }
   ],
   "source": [
    "# Level 2, 16 lines, each is 9th as long as the original line\n",
    "with Paper() as t:\n",
    "    drawkoch(Pen(t),100,2)"
   ]
  },
  {
   "cell_type": "code",
   "execution_count": 9,
   "metadata": {},
   "outputs": [
    {
     "data": {
      "image/png": "[encoded data removed]",
      "text/plain": [
       "<Figure size 360x360 with 1 Axes>"
      ]
     },
     "metadata": {},
     "output_type": "display_data"
    }
   ],
   "source": [
    "# Level 4, 256 lines, each is 81th as long as the original line\n",
    "with Paper() as t:\n",
    "    drawkoch(Pen(t),100,4)"
   ]
  },
  {
   "cell_type": "code",
   "execution_count": 10,
   "metadata": {},
   "outputs": [],
   "source": [
    "# Creating a function that uses the drawkoch() function which then draws a snowflake\n",
    "def snowflake(pen,dist,level):\n",
    "    for i in range(3):\n",
    "        drawkoch(pen,dist,level)\n",
    "        pen.right(120)"
   ]
  },
  {
   "cell_type": "code",
   "execution_count": 11,
   "metadata": {},
   "outputs": [
    {
     "data": {
      "image/png": "[encoded data removed]",
      "text/plain": [
       "<Figure size 360x360 with 1 Axes>"
      ]
     },
     "metadata": {},
     "output_type": "display_data"
    }
   ],
   "source": [
    "with Paper() as t:\n",
    "    t1 = Pen(t)\n",
    "    snowflake(t1,30,3)\n",
    "    \n",
    "    # change to \"True\" to see the 3 fractals in the snowflake\n",
    "    if False:                   \n",
    "        t2 = Pen(t, colour='r')\n",
    "        t2.forward(30)\n",
    "        t2.right(120)\n",
    "        t2.forward(30)\n",
    "        t2.right(120)\n",
    "        t2.forward(30)"
   ]
  },
  {
   "cell_type": "code",
   "execution_count": 12,
   "metadata": {},
   "outputs": [
    {
     "data": {
      "image/png": "[encoded data removed]",
      "text/plain": [
       "<Figure size 360x360 with 1 Axes>"
      ]
     },
     "metadata": {},
     "output_type": "display_data"
    }
   ],
   "source": [
    "# Create multiple snowflakes to make some magic\n",
    "with Paper() as t:\n",
    "    t1 = Pen(t)\n",
    "    \n",
    "    def flake():\n",
    "        snowflake(t1,30,3)\n",
    "        \n",
    "    def left():\n",
    "        t1.left(60)\n",
    "    \n",
    "    for f in [flake,left] * 6:\n",
    "        f()"
   ]
  },
  {
   "cell_type": "markdown",
   "metadata": {},
   "source": [
    "#### Recap\n",
    "Objects have methods associated with them that allow them to manipulate and return the data stored within the object. Each object will have the same types of data but each can be different (like the different coloured pens). Once an object has been created, it is easy to use and even wrap in functions to get more out of them. \n",
    "If object are still a little foreign to you, we will now see how they are created (not just called) using **Classes** and how to set up the data and methods associated with an object."
   ]
  },
  {
   "cell_type": "markdown",
   "metadata": {},
   "source": [
    "### Objects and Classes\n",
    "\n",
    "An object is an instance of a class that the developer creates. It is a container of all inforamtion and methods that relates to the instance. For example: a cocktail recipe can be a **class**, it has liquors associated with it, and a method `get_recipe`. Every time someone buys a cocktail, either a barman or robot can access the recipe for that cocktail and make it."
   ]
  },
  {
   "cell_type": "markdown",
   "metadata": {},
   "source": [
    "This might not make that much sense so lets program a Cocktail class.\n",
    "HINT: When an object is created then `__init__(self)` function is automatically called, and then object is passed to itself in the form of `self`. To then access the variables of a class, `self.<your variable>` needs to be called. For example, in the Pen class it looks like this: \n",
    "```python\n",
    "class Pen:\n",
    "    def __init__(self,colour='b'):\n",
    "        self.col = colour\n",
    "```\n",
    "Some of the code has been removed for simplicity but this shows the essentials of member variable assertion. When an instance of `Pen` is created, the object gets passed to itself with the variable `colour = 'b' ` (which assigns a default value and can be overwritten). `self.col` is created and the value 'b' then gets stored there.\n",
    "\n",
    "With that in mind, attempt at completing the exercise below."
   ]
  },
  {
   "cell_type": "code",
   "execution_count": 14,
   "metadata": {},
   "outputs": [],
   "source": [
    "class Cocktail:\n",
    "    def __init__(self, vodka=0, gin=0, tequila=0, whiskey=0, rum=0):\n",
    "        # This will run as soon as an object is created from this class\n",
    "        self.vodka = vodka\n",
    "        self.gin = gin\n",
    "        self.tequila = tequila\n",
    "        self.whiskey = whiskey\n",
    "        self.rum = rum\n",
    "    def get_recipe(self):\n",
    "        # This function will be called when the human/robot wants to know the recipe\n",
    "        recipe = {\n",
    "            'vodka (ml)' : self.vodka,\n",
    "            'gin (ml)' : self.gin,\n",
    "            'tequila (ml)' : self.tequila,\n",
    "            'whiskey (ml)' : self.whiskey,\n",
    "            'rum (ml)' : self.rum,\n",
    "        }\n",
    "        return recipe"
   ]
  },
  {
   "cell_type": "code",
   "execution_count": 15,
   "metadata": {},
   "outputs": [
    {
     "name": "stdout",
     "output_type": "stream",
     "text": [
      "{'vodka (ml)': 0, 'gin (ml)': 0, 'tequila (ml)': 0, 'whiskey (ml)': 0, 'rum (ml)': 0}\n"
     ]
    }
   ],
   "source": [
    "empty_glass = Cocktail()\n",
    "print(empty_glass.get_recipe())"
   ]
  },
  {
   "cell_type": "code",
   "execution_count": 16,
   "metadata": {},
   "outputs": [],
   "source": [
    "mojito = Cocktail(rum=44)"
   ]
  },
  {
   "cell_type": "code",
   "execution_count": 17,
   "metadata": {},
   "outputs": [
    {
     "name": "stdout",
     "output_type": "stream",
     "text": [
      "{'vodka (ml)': 0, 'gin (ml)': 0, 'tequila (ml)': 0, 'whiskey (ml)': 0, 'rum (ml)': 44}\n"
     ]
    }
   ],
   "source": [
    "print(mojito.get_recipe())"
   ]
  },
  {
   "cell_type": "code",
   "execution_count": 18,
   "metadata": {},
   "outputs": [
    {
     "name": "stdout",
     "output_type": "stream",
     "text": [
      "{'vodka (ml)': 10, 'gin (ml)': 0, 'tequila (ml)': 40, 'whiskey (ml)': 25, 'rum (ml)': 25}\n"
     ]
    }
   ],
   "source": [
    "good_time = Cocktail(vodka=10, gin=0, tequila=40, whiskey=25, rum=25)\n",
    "print(good_time.get_recipe())"
   ]
  },
  {
   "cell_type": "markdown",
   "metadata": {},
   "source": [
    "### Inheritance\n",
    "Inheritance is the idea of reusing a class's code and structure inside another object. Essentially to re-use code (good programming practice: waste not) and to show strong relationships between classes. This example uses the `Pen` class."
   ]
  },
  {
   "cell_type": "markdown",
   "metadata": {},
   "source": [
    "Since code has been written to draw straight lines, it would be a shame to re-write a whole bunch of new code to draw messy lines. It would make much more sense to re-use the already written code, and just add some noise to the line as it is drawn. This can easily be done with inheritance like so:"
   ]
  },
  {
   "cell_type": "code",
   "execution_count": 19,
   "metadata": {},
   "outputs": [],
   "source": [
    "class MessyPen(Pen):\n",
    "    \n",
    "    def forward(self,distance):\n",
    "        self.right(random.uniform(-10,10))\n",
    "        super().forward(random.uniform(0.75,1.25)*distance)"
   ]
  },
  {
   "cell_type": "code",
   "execution_count": 22,
   "metadata": {},
   "outputs": [
    {
     "data": {
      "image/png": "[encoded data removed]",
      "text/plain": [
       "<Figure size 360x360 with 1 Axes>"
      ]
     },
     "metadata": {},
     "output_type": "display_data"
    }
   ],
   "source": [
    "with Paper() as t:\n",
    "    t1 = MessyPen(t)\n",
    "    \n",
    "    for i in range(200):\n",
    "        t1.forward(1)"
   ]
  },
  {
   "cell_type": "markdown",
   "metadata": {},
   "source": [
    "Ok, so lets unpack this:\n",
    "We define a new classe \"MessyPen\". When we create it, we pass the \"Pen\" class, this is what tells python we are using inheritance. This means that everything in the Pen class gets re-defined in the `MessyPen` class. We don't define another `__init__` since it will be the same as the Pen class. We can change colour, direction and move backwards as if we were using the `Pen` class (see below). However, we have overwritten the forward() method (NOTE: we call the `Pen` `forward()` method by using the `super()` function) so whenever forward is called on a `MessyPen` object, it will use this new `forward()` method. Essentially all this method is doing is adding random noise to rotation and distance traveled by the pen."
   ]
  },
  {
   "cell_type": "code",
   "execution_count": 24,
   "metadata": {},
   "outputs": [
    {
     "data": {
      "image/png": "[encoded data removed]",
      "text/plain": [
       "<Figure size 360x360 with 1 Axes>"
      ]
     },
     "metadata": {},
     "output_type": "display_data"
    }
   ],
   "source": [
    "with Paper() as t:\n",
    "    t1 = MessyPen(t, colour='r')\n",
    "    \n",
    "    t1.left(20)\n",
    "    for i in range(200):\n",
    "        t1.forward(1)\n",
    "    t1.right(45)\n",
    "    t1.back(40)\n",
    "    t1.left(45)\n",
    "    for i in range(50):\n",
    "        t1.forward(1)"
   ]
  },
  {
   "cell_type": "markdown",
   "metadata": {},
   "source": [
    "#### Recap\n",
    "\n",
    "Inheritence actually inherits all of the \"parent\" class's code. If no code is written inside the \"child\" class, they will be identical. However, slight mutations are introduced to add new/alter functionality of the parent class. This support the good coding practice of re-use and it makes for better interoperability (which lends to maintainability of code)"
   ]
  }
 ],
 "metadata": {
  "kernelspec": {
   "display_name": "Python 3",
   "language": "python",
   "name": "python3"
  },
  "language_info": {
   "codemirror_mode": {
    "name": "ipython",
    "version": 3
   },
   "file_extension": ".py",
   "mimetype": "text/x-python",
   "name": "python",
   "nbconvert_exporter": "python",
   "pygments_lexer": "ipython3",
   "version": "3.7.1"
  }
 },
 "nbformat": 4,
 "nbformat_minor": 2
}
