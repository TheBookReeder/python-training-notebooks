{
 "cells": [
  {
   "cell_type": "markdown",
   "metadata": {
    "slideshow": {
     "slide_type": "slide"
    }
   },
   "source": [
    "# Object Oriented Programming In Python"
   ]
  },
  {
   "cell_type": "markdown",
   "metadata": {
    "slideshow": {
     "slide_type": "slide"
    }
   },
   "source": [
    "## Introduction\n",
    "<img src=\"https://cdn-images-1.medium.com/max/1194/1*ldXJND38N7PUecQ-n6_qWQ.png\" alt=\"Drawing\" style=\"width: 350px;\"/>"
   ]
  },
  {
   "cell_type": "markdown",
   "metadata": {
    "slideshow": {
     "slide_type": "subslide"
    }
   },
   "source": [
    "The reason for this presentation (more of a: read through a Notebook and then program) is to introduce some of you to the idea of Object Oriented programming. Others may be familiar with OO-programming but not in python. And the rest of you are not sure why you're here."
   ]
  },
  {
   "cell_type": "markdown",
   "metadata": {
    "slideshow": {
     "slide_type": "subslide"
    }
   },
   "source": [
    "I hope to not only make you all comfortable with implementing your first OO program by the end of this, but also start an important conversation, that is: Is it the job of a Data Scientist to program the whole model ETE? Are we Machine Learning Engineers or are we the complete solution for business's over-inflated desire for an \"AI\" model (from data structure design to front UI app and everything in between)?"
   ]
  },
  {
   "cell_type": "markdown",
   "metadata": {
    "slideshow": {
     "slide_type": "subslide"
    }
   },
   "source": [
    "Currently, we seem to be the latter, especially in companies slow to adopt a data-centric/data-science-y culture (like Nedbank). There isn't a Data Engineer/Architect/Miner that has the sole role of creating the supporting data for machine learning projects, and so this task is the responsibility of the Data Scientist. Once data is clean, in a secure but easily accessible location and large amounts of it can be pulled quickly, the actual model needs to be built. How do we build it?"
   ]
  },
  {
   "cell_type": "markdown",
   "metadata": {
    "slideshow": {
     "slide_type": "subslide"
    }
   },
   "source": [
    "Most quick, dirty, first draft models are programmed in a Procedural way. Import libraries, load the data, run the models, get the answers to life. This is all good an well when that's all required from business. All those times they told us \"yeah, no, just give me the csv, that's perfect, 5/5!\"... All those times. Often the results to models need to be communicated in a more *digestible* manner. Meaning this model needs to either comunicate with external GUI apps, or (and is often the case) other procedural programs are written that will all work together model to do the whole flow (Data Ingest -> Munge -> Model -> Interpret Results). In all fairness, this works but it doesn't work well, especially when something more needs to be added last minute to the model, like a Web App. "
   ]
  },
  {
   "cell_type": "markdown",
   "metadata": {
    "slideshow": {
     "slide_type": "subslide"
    }
   },
   "source": [
    "This is where OO programming comes in. We will now look at why OO over Procedural and Functional, especially from a Data Science point of view."
   ]
  },
  {
   "cell_type": "markdown",
   "metadata": {
    "slideshow": {
     "slide_type": "slide"
    }
   },
   "source": [
    "## OO, What is it?\n",
    "---\n",
    "![title](Whatisthis1.png)"
   ]
  },
  {
   "cell_type": "markdown",
   "metadata": {
    "slideshow": {
     "slide_type": "subslide"
    }
   },
   "source": [
    "The (/Tim's) formal definition: Object-orientated programming is a paradigm of programming that uses classes and objects to create containers of functions and variables. An application that uses OO programming will use a collection of objects that will when called upon will pass information, store or process data."
   ]
  },
  {
   "cell_type": "markdown",
   "metadata": {
    "slideshow": {
     "slide_type": "slide"
    }
   },
   "source": [
    "#### OO vs Procedural\n",
    "![procedural](procedural.PNG)"
   ]
  },
  {
   "cell_type": "markdown",
   "metadata": {
    "slideshow": {
     "slide_type": "subslide"
    }
   },
   "source": [
    "Procedural programming often referred to as \"in-line programming\", it is one flat file that runs from top to bottom. Even if the code is split into separate files but is just all imported into one file, it is still a procedural program."
   ]
  },
  {
   "cell_type": "markdown",
   "metadata": {
    "slideshow": {
     "slide_type": "subslide"
    }
   },
   "source": [
    "A good analogy that I came up with myself ([Don't Look Here](https://neonbrand.com/website-design/procedural-programming-vs-object-oriented-programming-a-review/)) to compare procedural and OO is as follows:\n",
    "Object oriented programming is a simple \"learn to read\" picture book. A picture of a house at the beginning of the book with colour, number of windows, style of roof, etc. will look the same at the end of the book. If we then change the colour of the house, it will automatically change throughout the book. You can also turn to any page, maybe the one with a worm and an apple, and you will instantly know that it is a worm and an apple. Very little prior knowledge will be needed to understand each *object* found on each page.\n",
    "However, procedural programming is a novel full of words and complete sentences. The meaning of one page very much depends on the previous pages. If we were to change the name of one key character somewhere in the novel, the book wouldn't make sense unless we made sure we went and changed every single instance of the characters name. "
   ]
  },
  {
   "cell_type": "markdown",
   "metadata": {
    "slideshow": {
     "slide_type": "subslide"
    }
   },
   "source": [
    "To sum up in more of a programming explanation: \n",
    "- OO programming has member variables and functions that only apply to the object and will not change. Objects are easy to understand to a programmer that has never seen the code before since all variables and logic associated with objects are all in one neat package. New instances of objects can be created without affecting other objects and when an object is modified, it will be modified everywhere it is found.\n",
    "- Procedural programming contains various records of data with different procedures being used to manipulate the records. Records depend on each other in a way that if one record is changed, the code must be finely combed to find all dependant instances."
   ]
  },
  {
   "cell_type": "markdown",
   "metadata": {
    "slideshow": {
     "slide_type": "slide"
    }
   },
   "source": [
    "#### OO vs Functional\n",
    "![functional](https://www.explainxkcd.com/wiki/images/5/58/functional.png)"
   ]
  },
  {
   "cell_type": "markdown",
   "metadata": {
    "slideshow": {
     "slide_type": "subslide"
    }
   },
   "source": [
    "Functional programming and procedural programming can overlap at times, but simply put: Functional Programming is a language that focuses on the computation of pure functions. Key word \"pure\" as in \n",
    "- Everything revolves around keeping everything separate between the data of a program and the logic\n",
    "- All variables in functional programming are immutable (set in stone)\n",
    "- Shared state is avoided\n",
    "- Adherence to pure functions:\n",
    "    -  The return value depends on the input value (if a the same value is inputted, the same value will be output every time\n",
    "    -  No side effects (no calls to databases or networks within the function)\n",
    "    -  Data passed to a function is never altered (think destructive vs non-destructive)\n",
    "\n",
    "[ref](https://medium.com/@sho.miyata.1/the-object-oriented-programming-vs-functional-programming-debate-in-a-beginner-friendly-nutshell-24fb6f8625cc)"
   ]
  },
  {
   "cell_type": "markdown",
   "metadata": {
    "slideshow": {
     "slide_type": "subslide"
    }
   },
   "source": [
    "Touchy topic of debate, this second one. It is up with the greats, such as: Edward or Jacob, Real Madrid or Barca, Hogwarts House, tabs or spaces. To give credit to both and then justify OO over Functional for Data Scientists:\n",
    "\n",
    "- Team functional are all about the separation of data and methods, as well as the high level of abstraction leave less room for errors\n",
    "- Team OO support concepts of inheritance (allowing for a better reuse of code), encapsulation (all data and methods relating to an object are bound together making it easy to manage and manipulate) and ease of maintainability\n",
    "\n",
    "Both have merit in different applicatins and this is where the OO takes the top spot. \n",
    "First and foremost: python is more an OO language than a Functional one (even though Functional programming is supported in python) and python is currently the chosen language of majority of data scientists. I.e. if you use python, you should implement OO programming\n",
    "Secondly: An ML model is very seldom built and left. Maintanance is a large aspect of data science. OO is the easiest to maintain and add new modules to.\n",
    "Lastly: Who wants a novel over a \"learn to read\" picture book?"
   ]
  },
  {
   "cell_type": "markdown",
   "metadata": {
    "slideshow": {
     "slide_type": "slide"
    }
   },
   "source": [
    "## Conclusion\n",
    "![conclusion](https://c10.patreonusercontent.com/3/eyJ3IjoxNjAwfQ%3D%3D/patreon-media/p/post/8241842/146060ab0670436ab7ac1f5e0e87e7cb/1?token-time=2145916800&token-hash=YnE8fr0qoAPP7Zu4WfPIkr3mwRuBQjd6tbFEz6wMKlo%3D)"
   ]
  },
  {
   "cell_type": "markdown",
   "metadata": {
    "slideshow": {
     "slide_type": "subslide"
    }
   },
   "source": [
    "Now that you trust me that OO is the way to go, let's actually get into programming so you will know how to implement encapsulation and inheritance in python."
   ]
  }
 ],
 "metadata": {
  "celltoolbar": "Slideshow",
  "kernelspec": {
   "display_name": "Python 2",
   "language": "python",
   "name": "python2"
  },
  "language_info": {
   "codemirror_mode": {
    "name": "ipython",
    "version": 2
   },
   "file_extension": ".py",
   "mimetype": "text/x-python",
   "name": "python",
   "nbconvert_exporter": "python",
   "pygments_lexer": "ipython2",
   "version": "2.7.15"
  }
 },
 "nbformat": 4,
 "nbformat_minor": 2
}
