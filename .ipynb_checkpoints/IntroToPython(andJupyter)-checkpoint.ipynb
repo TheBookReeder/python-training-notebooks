{
 "cells": [
  {
   "cell_type": "markdown",
   "metadata": {},
   "source": [
    "# Intro to Python\n",
    "---\n",
    "![test](pexels-photo-169573.jpeg)"
   ]
  },
  {
   "cell_type": "markdown",
   "metadata": {},
   "source": [
    "<span style = \"font-size:18px;\"> In this notebook, you will run code samples that show how user friendly python is, and the solution is often easier than you expect due to the Python community. Starting with how to use this IDE called Jupyter, and ending with functions, this notebook will give a decent intro to python. </span>"
   ]
  },
  {
   "cell_type": "markdown",
   "metadata": {},
   "source": [
    "## Contents\n",
    "1. [Jupyter](#Jupyter)\n",
    "2. [Syntax](#Syntax)\n",
    "3. [Variables Types](#Types)\n",
    "4. [Container Types](#Container)\n",
    "5. [Common Functions](#Pandas)"
   ]
  },
  {
   "cell_type": "markdown",
   "metadata": {},
   "source": [
    "## 1. Jupyter\n",
    "---\n",
    "One of the four most popular IDEs for python is Jupyter. It is argueably the most pythonic IDE - since python was developed to be a quick, easy to use language that has an iterative trial/error approach at it's core. Even though today it can be used to develop intricate applications, it didn't start that way. Jupyter keeps this ideology through it's mix of code and markdown blocks\n",
    "> <span style = \"font-size:18px;\">**Fun Fact**</span> The name Jupyter comes from the three languages for which it was developed: Julia, Python and R\n",
    "<a id='Jupyter'></a>"
   ]
  },
  {
   "cell_type": "markdown",
   "metadata": {},
   "source": [
    "### Code blocks\n",
    "First we will quickly cover code blocks, without them Jupyter would be a really basic text editor. When you start a notebook, it will create a kernal that will be able to interpret and compile code. Then each code block can be seen as a piece of a script that you are able to run in a piece-wise manner. See below:"
   ]
  },
  {
   "cell_type": "code",
   "execution_count": 1,
   "metadata": {},
   "outputs": [
    {
     "name": "stdout",
     "output_type": "stream",
     "text": [
      "23\n"
     ]
    }
   ],
   "source": [
    "my_num = 23    # Store the value '23' in a variable 'my_num'\n",
    "print(my_num)  # Write the value stored in 'my_num' to the console"
   ]
  },
  {
   "cell_type": "markdown",
   "metadata": {},
   "source": [
    "Not only does the code run, but any output that would generally be written to a python console will be displayed below the cell. Since there is one kernal running, any variable stored in the namespace will exist on memory and can be accessed at any point. **Note**: If the kernal is restarted all variable will be lost. See below we can still use `my_num`"
   ]
  },
  {
   "cell_type": "code",
   "execution_count": 2,
   "metadata": {},
   "outputs": [
    {
     "name": "stdout",
     "output_type": "stream",
     "text": [
      "46\n"
     ]
    }
   ],
   "source": [
    "print(my_num*2) # Write the result of the value stored in 'my_num' multiplied by 2"
   ]
  },
  {
   "cell_type": "markdown",
   "metadata": {},
   "source": [
    "And when it comes to code blocks that is essentially it. For the more advanced users: Jupyter runs IPython over the python kernal, so you can time how long code takes to run, data frames are displayed nicely, other languages can be run inside python, etc. but we don't have time to cover all of that.\n",
    "\n",
    "The second piece of Jupyter that makes it so powerful is Markdown"
   ]
  },
  {
   "cell_type": "markdown",
   "metadata": {},
   "source": [
    "### Markdown\n",
    "Using Markdown properly, Jupyter allows the programmer to turn their code into readable reports that takes comments to a whole new level. Which has two major benefits: getting familiar with code and communicating results. By adding markdown blocks before the code blocks that explain what the code is doing is much more powerful than inline comments (which should still be used in Jupyter, as seen above). After the code blocks, markdown blocks should be included that explain/interpret the results. This will allow others (including heads of business) to understand the results without having to get a presentation. Both very powerful for collaboration across teams, organisations, communities.\n",
    "\n",
    "To be efficient with Markdown, a quick overview of what can be done. (Double click on any of the blocks to see how it's done)\n",
    "***"
   ]
  },
  {
   "cell_type": "markdown",
   "metadata": {},
   "source": [
    "# Title\n",
    "## Major Headings\n",
    "### Subheadings\n",
    "#### Subsubheadings\n",
    "##### Subsubsubheadings\n",
    "---"
   ]
  },
  {
   "cell_type": "markdown",
   "metadata": {},
   "source": [
    "Emphasis is placed on words using underscores (\\_) OR asterisks (\\*).\n",
    "- Bold is double of either: __underscores__, **asterisks**. \n",
    "- Italics is with single of either: _underscores_, *asterisks*\n",
    "***"
   ]
  },
  {
   "cell_type": "markdown",
   "metadata": {},
   "source": [
    "The bullets above are by using a hyphen (-) on each new line. Sub-bullets are made with spaces before the hyphen.\n",
    "- bullet point\n",
    " - sub point\n",
    "   - sub sub point\n",
    "     - sub sub sub point\n",
    "   - second sub sub point\n",
    "- second main bullet point\n",
    "***"
   ]
  },
  {
   "cell_type": "markdown",
   "metadata": {},
   "source": [
    "Numbering can be done using numbers and a period on a new line\n",
    "1. first list item\n",
    "2. second lst item\n",
    " 1. sub list item\n",
    "    1. sub sub list item\n",
    "       1. sub sub sub list item\n",
    "    2. seocnd sub sub list item\n",
    "3. third list item\n",
    "***"
   ]
  },
  {
   "cell_type": "markdown",
   "metadata": {},
   "source": [
    "to get monospaces font (used to reference code), use a **back** single quotation mark `like this`, to use over multiple lines use three at the beginning and end \n",
    "```\n",
    "test\n",
    "```\n",
    "***"
   ]
  },
  {
   "cell_type": "markdown",
   "metadata": {},
   "source": [
    "If you want to give the monospace text a coding languange format, put the language name after the first three back single quotation marks\n",
    "``` python\n",
    "my_num = 23    # Store the value '23' in a variable 'my_num'\n",
    "print(my_num)  # Write the value stored in 'my_num' to the console\n",
    "```\n",
    "This isn't code but is formatted to look like code.\n",
    "***"
   ]
  },
  {
   "cell_type": "markdown",
   "metadata": {},
   "source": [
    "Mathematical equations can be written in markdown using the dollar symbol (\\$) \n",
    "- $\\frac{a}{b}$\n",
    "- $\\mathrm{P}(X \\le x) = {\\tt pbinom}(x, n, \\pi)$\n",
    "- $\\left[\\int_{-\\infty}^{\\infty} f(x) \\; dx\\right]$\n",
    "- $\\lim_{x \\to \\infty} f(x)$\n",
    "***"
   ]
  },
  {
   "cell_type": "markdown",
   "metadata": {},
   "source": [
    "# http://10.74.10.34:30222"
   ]
  },
  {
   "cell_type": "markdown",
   "metadata": {},
   "source": [
    "Markdown will interpret html so most html code will work, like changing font <font size = 6>size</font> and <font color=blue>colour</font>"
   ]
  },
  {
   "cell_type": "markdown",
   "metadata": {},
   "source": [
    "### General Use\n",
    "***\n",
    "Lastly, using Jupyter can become quite laborious if the keyboard shortcuts aren't used. So just a couple main ones:\n",
    "- `b` create a new codeblock below the current cell\n",
    "- `a` create a new codeblock above the current cell\n",
    "- `c` copy the current cell\n",
    "- `v` paste the copied cell below current cell\n",
    "- `d,d` deletes current cell\n",
    "- `m` change current cell to markdown\n",
    "- `y` change current cell to code\n",
    "- `Shift`+`Enter` to run cells\n",
    "> <font size = 3>NOTE: </font> These won't work if you're edditing a cell. Make sure to press `Esc` for these shorcuts to work."
   ]
  },
  {
   "cell_type": "markdown",
   "metadata": {},
   "source": [
    "## 2. Syntax\n",
    "---\n",
    "Python has a very simple and forgiving syntax except for when it comes to tabs (whitespace). Instead of using brakets to indicate sections of similar code, python uses 4 white spaces (by default). <br>\n",
    "other than this, it is all very straight forward. Below are come operations and various logic controls in python.\n",
    "<a id='Syntax'></a>"
   ]
  },
  {
   "cell_type": "code",
   "execution_count": 5,
   "metadata": {},
   "outputs": [
    {
     "name": "stdout",
     "output_type": "stream",
     "text": [
      "50.6\n"
     ]
    }
   ],
   "source": [
    "num = 2             # Asign a value to a variable\n",
    "num = num * 23      # Use the varibale to calculate a new value and asign it to that variable\n",
    "\n",
    "foo = 1.1           # Create a new variable with a deciaml place\n",
    "\n",
    "result = num * foo  # Use the two variables in an equation and store the result in a new variable\n",
    "\n",
    "print(result)"
   ]
  },
  {
   "cell_type": "markdown",
   "metadata": {},
   "source": [
    "Python has two variations of divide: float and integer division. Both use the forward slash (/), but an integer divide has two (//)"
   ]
  },
  {
   "cell_type": "code",
   "execution_count": 8,
   "metadata": {},
   "outputs": [
    {
     "name": "stdout",
     "output_type": "stream",
     "text": [
      "Float division of 25/2: \t12.5\n",
      "Integer division of 25/2: \t12\n",
      "\n",
      "Float division of 89/9: \t9.88888888888889\n",
      "Integer division of 89/9: \t9\n"
     ]
    }
   ],
   "source": [
    "print(\"Float division of 25/2: \\t\" + str(25/2))  # Typecast the result of 25/2 as a string\n",
    "print(\"Integer division of 25/2: \\t\" + str(25//2))\n",
    "\n",
    "print('')\n",
    "\n",
    "print(\"Float division of 89/9: \\t\" + str(89/9))  # Typecast the result of 25/2 as a string\n",
    "print(\"Integer division of 89/9: \\t\" + str(89//9))"
   ]
  },
  {
   "cell_type": "markdown",
   "metadata": {},
   "source": [
    "To calculate the power of a number, Python uses two astericks, the Caret-Circumflex (^) is a bitwise XOR."
   ]
  },
  {
   "cell_type": "code",
   "execution_count": 9,
   "metadata": {},
   "outputs": [
    {
     "name": "stdout",
     "output_type": "stream",
     "text": [
      "27\n"
     ]
    }
   ],
   "source": [
    "print(3**3)"
   ]
  },
  {
   "cell_type": "markdown",
   "metadata": {},
   "source": [
    "`if` statements are used as a logic check. If something then do this. There is an `else` statement that **HAS** to follow an `if`, that will be used when the `if` statement is not satisfied. Additionally, there is an `elif` statement that will be checked only if the preceding `if` statement was **not** satisfied. If it was, then the `elif` will be skipped. As mentioned above, to indicate the code inside the `if`/`elif`/`else` blocks, python expects tabbed code."
   ]
  },
  {
   "cell_type": "code",
   "execution_count": 11,
   "metadata": {},
   "outputs": [
    {
     "name": "stdout",
     "output_type": "stream",
     "text": [
      "1 does equal 1\n"
     ]
    }
   ],
   "source": [
    "if 1 == 1:\n",
    "    print('1 does equal 1')"
   ]
  },
  {
   "cell_type": "code",
   "execution_count": 12,
   "metadata": {},
   "outputs": [
    {
     "name": "stdout",
     "output_type": "stream",
     "text": [
      "you can't compare strings and numbers\n"
     ]
    }
   ],
   "source": [
    "if 'one' == 1:\n",
    "    print('one does equal 1')\n",
    "\n",
    "elif 'one' == 1.0:\n",
    "    print('one doesn\\'t equal 1 but it does equal 1.0')\n",
    "    \n",
    "else:\n",
    "    print('you can\\'t compare strings and numbers')"
   ]
  },
  {
   "cell_type": "markdown",
   "metadata": {},
   "source": [
    "`for` loops in python don't run a certain number of times (as with most languages) but will rather iterate through a container (this Notebook will cover them in more detail in a later chapter). `for` loops also require the whitespace to mark what code the loop will iterate over. "
   ]
  },
  {
   "cell_type": "code",
   "execution_count": 16,
   "metadata": {},
   "outputs": [
    {
     "name": "stdout",
     "output_type": "stream",
     "text": [
      "2\n",
      "4\n",
      "18\n",
      "8\n",
      "10\n"
     ]
    }
   ],
   "source": [
    "for t in [1, 2, 9, 4, 5]:\n",
    "    t = t*2\n",
    "    print(t)"
   ]
  },
  {
   "cell_type": "markdown",
   "metadata": {},
   "source": [
    "## 3. Variable Types\n",
    "---\n",
    "Float, integer string and boolean are the most used. Anything else is beond the scope of this intro.\n",
    "<a id='Types'></a>"
   ]
  },
  {
   "cell_type": "markdown",
   "metadata": {},
   "source": [
    "- Float: Better known as a number with decimals, but short for Floating point real values\n",
    "- Integer: Positive or negative whole numbers with no decimal point\n",
    "- String: one or multiple characters stored as text\n",
    "- Boolean: True or False, binary variable"
   ]
  },
  {
   "cell_type": "markdown",
   "metadata": {},
   "source": [
    "The type of any variable can be checked using the built-in function `type()`"
   ]
  },
  {
   "cell_type": "code",
   "execution_count": 18,
   "metadata": {},
   "outputs": [
    {
     "name": "stdout",
     "output_type": "stream",
     "text": [
      "<class 'float'>\n",
      "<class 'int'>\n",
      "<class 'float'>\n",
      "<class 'str'>\n",
      "<class 'bool'>\n"
     ]
    }
   ],
   "source": [
    "print(type(1.1))\n",
    "print(type(1))\n",
    "print(type(1.0))\n",
    "print(type('one'))\n",
    "print(type(True))"
   ]
  },
  {
   "cell_type": "markdown",
   "metadata": {},
   "source": [
    "## 4. Container Types\n",
    "---\n",
    "Containers are a key aspect of what makes python so powerful. The most used are: lists, dictionaries, sets and tuples. \n",
    "<a id='Container'></a>"
   ]
  },
  {
   "cell_type": "markdown",
   "metadata": {},
   "source": [
    "- List: A data structure that stores an ordered collection of items. You need to put all the items, separated by commas, in square brackets to let Python know that a list\n",
    "- Dictionary: Another type of built-in data structure in Python is the dictionary. It stores data in the form of key-value pairs. The keys defined for a dictionary need to be unique. Though values in a dictionary can be mutable or immutable objects, only immutable objects are allowed for keys.\n",
    "- Sets: Simply, a set is an unordered collection of simple objects in Python. In addition to being iterable and mutable, a set has no duplicate elements. Any set defined in Python is an instance of the set class.\n",
    "- Tuple: Similar to a list, the tuple is a built-in data structure in Python. However, it doesn’t support the same level of extensive functionality. The most important difference between a list and a tuple is mutability. Unlike lists, tuples are immutable i.e. they can’t be modified."
   ]
  },
  {
   "cell_type": "markdown",
   "metadata": {},
   "source": [
    "### List\n",
    "Arguably the most used contianer, lists are an ordered collection of items. It can even be a collection of different data types. They are created by using square brackets. Below we will create a list and show it's most common applications."
   ]
  },
  {
   "cell_type": "code",
   "execution_count": 19,
   "metadata": {},
   "outputs": [],
   "source": [
    "my_list = [1, 2, 5, 3, 'tim']"
   ]
  },
  {
   "cell_type": "code",
   "execution_count": 20,
   "metadata": {},
   "outputs": [
    {
     "name": "stdout",
     "output_type": "stream",
     "text": [
      "2\n",
      "4\n",
      "10\n",
      "6\n",
      "timtim\n"
     ]
    }
   ],
   "source": [
    "for i in my_list:\n",
    "    print(i*2)"
   ]
  },
  {
   "cell_type": "code",
   "execution_count": 21,
   "metadata": {},
   "outputs": [],
   "source": [
    "my_list.append(10)"
   ]
  },
  {
   "cell_type": "code",
   "execution_count": 22,
   "metadata": {},
   "outputs": [
    {
     "name": "stdout",
     "output_type": "stream",
     "text": [
      "[1, 2, 5, 3, 'tim', 10]\n"
     ]
    }
   ],
   "source": [
    "print(my_list)"
   ]
  },
  {
   "cell_type": "code",
   "execution_count": 23,
   "metadata": {},
   "outputs": [],
   "source": [
    "my_list = my_list + [20, 30, 40]"
   ]
  },
  {
   "cell_type": "code",
   "execution_count": 24,
   "metadata": {},
   "outputs": [
    {
     "name": "stdout",
     "output_type": "stream",
     "text": [
      "[1, 2, 5, 3, 'tim', 10, 20, 30, 40]\n"
     ]
    }
   ],
   "source": [
    "print(my_list)"
   ]
  },
  {
   "cell_type": "code",
   "execution_count": 30,
   "metadata": {},
   "outputs": [
    {
     "name": "stdout",
     "output_type": "stream",
     "text": [
      "Is tim awesome?\n"
     ]
    }
   ],
   "source": [
    "print('Is {} awesome?'.format(my_list[4]))"
   ]
  },
  {
   "cell_type": "code",
   "execution_count": 31,
   "metadata": {},
   "outputs": [
    {
     "data": {
      "text/plain": [
       "[5, 3, 'tim']"
      ]
     },
     "execution_count": 31,
     "metadata": {},
     "output_type": "execute_result"
    }
   ],
   "source": [
    "my_list[2:5]"
   ]
  },
  {
   "cell_type": "code",
   "execution_count": 32,
   "metadata": {},
   "outputs": [
    {
     "data": {
      "text/plain": [
       "[1, 2, 5]"
      ]
     },
     "execution_count": 32,
     "metadata": {},
     "output_type": "execute_result"
    }
   ],
   "source": [
    "my_list[:3]"
   ]
  },
  {
   "cell_type": "code",
   "execution_count": 33,
   "metadata": {},
   "outputs": [
    {
     "data": {
      "text/plain": [
       "[20, 30, 40]"
      ]
     },
     "execution_count": 33,
     "metadata": {},
     "output_type": "execute_result"
    }
   ],
   "source": [
    "my_list[-3:]"
   ]
  },
  {
   "cell_type": "markdown",
   "metadata": {},
   "source": [
    "### Dictionary\n",
    "The most structured of the containers. It is built on a key-value pair. That value could be anything, including another dictionary. They are created using curly brackets. Below we will create a dictionary and show it's common applications."
   ]
  },
  {
   "cell_type": "code",
   "execution_count": 37,
   "metadata": {},
   "outputs": [],
   "source": [
    "my_dict = {\n",
    "    'name' : 'Tim',\n",
    "    'age' : 28,\n",
    "    'mate' : {\n",
    "        'name': 'Sasha',\n",
    "        'age' : 26\n",
    "    }\n",
    "}"
   ]
  },
  {
   "cell_type": "code",
   "execution_count": 38,
   "metadata": {},
   "outputs": [
    {
     "name": "stdout",
     "output_type": "stream",
     "text": [
      "name\n",
      "age\n",
      "mate\n"
     ]
    }
   ],
   "source": [
    "for i in my_dict:\n",
    "    print(i)"
   ]
  },
  {
   "cell_type": "code",
   "execution_count": 41,
   "metadata": {},
   "outputs": [
    {
     "name": "stdout",
     "output_type": "stream",
     "text": [
      "Tim\n",
      "28\n",
      "{'name': 'Sasha', 'age': 26}\n"
     ]
    }
   ],
   "source": [
    "for key in my_dict:\n",
    "    print(my_dict[key])"
   ]
  },
  {
   "cell_type": "code",
   "execution_count": 43,
   "metadata": {},
   "outputs": [
    {
     "data": {
      "text/plain": [
       "{'name': 'Sasha', 'age': 26}"
      ]
     },
     "execution_count": 43,
     "metadata": {},
     "output_type": "execute_result"
    }
   ],
   "source": [
    "my_dict['mate']"
   ]
  },
  {
   "cell_type": "code",
   "execution_count": 44,
   "metadata": {},
   "outputs": [
    {
     "data": {
      "text/plain": [
       "'Sasha'"
      ]
     },
     "execution_count": 44,
     "metadata": {},
     "output_type": "execute_result"
    }
   ],
   "source": [
    "my_dict['mate']['name']"
   ]
  },
  {
   "cell_type": "code",
   "execution_count": 45,
   "metadata": {},
   "outputs": [],
   "source": [
    "my_dict['title'] = 'Data Scientist'\n",
    "my_dict['mate']['title'] = 'Junior Data Scientist'"
   ]
  },
  {
   "cell_type": "code",
   "execution_count": 46,
   "metadata": {},
   "outputs": [
    {
     "name": "stdout",
     "output_type": "stream",
     "text": [
      "{'name': 'Tim', 'age': 28, 'mate': {'name': 'Sasha', 'age': 26, 'title': 'Junior Data Scientist'}, 'title': 'Data Scientist'}\n"
     ]
    }
   ],
   "source": [
    "print(my_dict)"
   ]
  },
  {
   "cell_type": "markdown",
   "metadata": {},
   "source": [
    "### Tuple\n",
    "Biggest difference between tuples and lists is that a Tuple is immutable. They are therefore used when the collection of items is not going to be changed. It is good programming practice to use them in this situation since an operation my try to change them and then throw an error, rather than casuing a bug. They can contain defferent variable types together and are created using round brackets."
   ]
  },
  {
   "cell_type": "code",
   "execution_count": 47,
   "metadata": {},
   "outputs": [],
   "source": [
    "my_tuple = (1, 2, 4.4, 7, 'Tim')"
   ]
  },
  {
   "cell_type": "code",
   "execution_count": 48,
   "metadata": {},
   "outputs": [
    {
     "name": "stdout",
     "output_type": "stream",
     "text": [
      "7\n"
     ]
    }
   ],
   "source": [
    "print(my_tuple[3])"
   ]
  },
  {
   "cell_type": "code",
   "execution_count": 49,
   "metadata": {},
   "outputs": [
    {
     "ename": "TypeError",
     "evalue": "'tuple' object does not support item assignment",
     "output_type": "error",
     "traceback": [
      "\u001b[0;31m---------------------------------------------------------------------------\u001b[0m",
      "\u001b[0;31mTypeError\u001b[0m                                 Traceback (most recent call last)",
      "\u001b[0;32m<ipython-input-49-48a9bcf9a50c>\u001b[0m in \u001b[0;36m<module>\u001b[0;34m\u001b[0m\n\u001b[0;32m----> 1\u001b[0;31m \u001b[0mmy_tuple\u001b[0m\u001b[0;34m[\u001b[0m\u001b[0;36m3\u001b[0m\u001b[0;34m]\u001b[0m \u001b[0;34m=\u001b[0m \u001b[0;36m3\u001b[0m\u001b[0;34m\u001b[0m\u001b[0;34m\u001b[0m\u001b[0m\n\u001b[0m",
      "\u001b[0;31mTypeError\u001b[0m: 'tuple' object does not support item assignment"
     ]
    }
   ],
   "source": [
    "my_tuple[3] = 3"
   ]
  },
  {
   "cell_type": "code",
   "execution_count": 50,
   "metadata": {},
   "outputs": [],
   "source": [
    "my_tuple = my_tuple + (10, 20, 30)"
   ]
  },
  {
   "cell_type": "code",
   "execution_count": 51,
   "metadata": {},
   "outputs": [
    {
     "name": "stdout",
     "output_type": "stream",
     "text": [
      "(1, 2, 4.4, 7, 'Tim', 10, 20, 30)\n"
     ]
    }
   ],
   "source": [
    "print(my_tuple)"
   ]
  },
  {
   "cell_type": "markdown",
   "metadata": {},
   "source": [
    "## 5. Common Functions\n",
    "---\n",
    "There are some built-in functions that are used so often that it would be wrong if they weren't covered here.\n",
    "<a id='Pandas'></a>"
   ]
  },
  {
   "cell_type": "markdown",
   "metadata": {},
   "source": [
    "### len()\n",
    "Returns the number of items in a container. Short for length."
   ]
  },
  {
   "cell_type": "code",
   "execution_count": 54,
   "metadata": {},
   "outputs": [
    {
     "data": {
      "text/plain": [
       "9"
      ]
     },
     "execution_count": 54,
     "metadata": {},
     "output_type": "execute_result"
    }
   ],
   "source": [
    "len(my_list)"
   ]
  },
  {
   "cell_type": "code",
   "execution_count": 55,
   "metadata": {},
   "outputs": [
    {
     "data": {
      "text/plain": [
       "16"
      ]
     },
     "execution_count": 55,
     "metadata": {},
     "output_type": "execute_result"
    }
   ],
   "source": [
    "len('this is a string')"
   ]
  },
  {
   "cell_type": "markdown",
   "metadata": {},
   "source": [
    "### range()\n",
    "Returns an itterator of numbers between 2 numbers and at a specified step increment. If a start and step increment isn't specified, it will default to 0 and 1 respectfully."
   ]
  },
  {
   "cell_type": "code",
   "execution_count": 57,
   "metadata": {},
   "outputs": [
    {
     "name": "stdout",
     "output_type": "stream",
     "text": [
      "range(0, 9)\n"
     ]
    }
   ],
   "source": [
    "print(range(9))"
   ]
  },
  {
   "cell_type": "code",
   "execution_count": 56,
   "metadata": {},
   "outputs": [
    {
     "name": "stdout",
     "output_type": "stream",
     "text": [
      "[0, 1, 2, 3, 4, 5, 6, 7, 8, 9]\n"
     ]
    }
   ],
   "source": [
    "print(list(range(10)))"
   ]
  },
  {
   "cell_type": "code",
   "execution_count": 58,
   "metadata": {},
   "outputs": [
    {
     "name": "stdout",
     "output_type": "stream",
     "text": [
      "[5, 6, 7, 8, 9]\n"
     ]
    }
   ],
   "source": [
    "print(list(range(5, 10)))"
   ]
  },
  {
   "cell_type": "code",
   "execution_count": 59,
   "metadata": {},
   "outputs": [
    {
     "name": "stdout",
     "output_type": "stream",
     "text": [
      "[10, 20, 30, 40, 50, 60, 70, 80, 90]\n"
     ]
    }
   ],
   "source": [
    "print(list(range(10, 100, 10)))"
   ]
  },
  {
   "cell_type": "code",
   "execution_count": 60,
   "metadata": {},
   "outputs": [
    {
     "name": "stdout",
     "output_type": "stream",
     "text": [
      "0, 1, 2, 3, 4, 5, 6, 7, 8, 9, "
     ]
    }
   ],
   "source": [
    "for i in range(10):\n",
    "    print(i, end=', ')"
   ]
  }
 ],
 "metadata": {
  "kernelspec": {
   "display_name": "Python 3",
   "language": "python",
   "name": "python3"
  },
  "language_info": {
   "codemirror_mode": {
    "name": "ipython",
    "version": 3
   },
   "file_extension": ".py",
   "mimetype": "text/x-python",
   "name": "python",
   "nbconvert_exporter": "python",
   "pygments_lexer": "ipython3",
   "version": "3.7.1"
  }
 },
 "nbformat": 4,
 "nbformat_minor": 2
}
