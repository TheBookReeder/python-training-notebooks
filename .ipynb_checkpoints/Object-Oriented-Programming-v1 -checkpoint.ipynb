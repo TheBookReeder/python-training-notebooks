{
 "cells": [
  {
   "cell_type": "markdown",
   "metadata": {},
   "source": [
    "# Object Orientated Programming\n",
    "---\n",
    "![explosion](https://tenor.com/view/explosion-boom-gif-8911339.gif \"chess\")\n",
    "\n",
    "---\n",
    "\n",
    "This notebook serves as an introduction to Object Oriented programming.\n",
    "\n",
    "By the end of this you should:\n",
    "- Know what a class is and how to create one\n",
    "- Know how classes and objects relate to each other\n",
    "- Be able to differentiate between a member method, class method and static method\n",
    "- Know what inheritance is and how to implement it\n",
    "- Be comfortable with \\*args and \\*\\*kwargs\n",
    "- Have a grasp of decorators"
   ]
  },
  {
   "cell_type": "code",
   "execution_count": 5,
   "metadata": {
    "deletable": false,
    "nbgrader": {
     "checksum": "21282b27f432ddd030a18f427e9342a6",
     "grade": false,
     "grade_id": "squares",
     "locked": false,
     "schema_version": 1,
     "solution": true
    }
   },
   "outputs": [],
   "source": [
    "def squares(n):\n",
    "    '''\n",
    "        Compute the squares of numbers from 1 to n such that the ith element of the list returns i^2\n",
    "    '''\n",
    "    \n",
    "    # YOUR CODE HERE\n",
    "    return [i**2 for i in range(1, n+1)]"
   ]
  },
  {
   "cell_type": "code",
   "execution_count": 6,
   "metadata": {
    "deletable": false,
    "editable": false,
    "nbgrader": {
     "checksum": "1c2ec4cf0180968ed69c59a416945caf",
     "grade": true,
     "grade_id": "correct_squares",
     "locked": true,
     "points": 5,
     "schema_version": 1,
     "solution": false
    }
   },
   "outputs": [],
   "source": [
    "from nose.tools import assert_equal\n",
    "assert_equal(squares(1), [1])\n",
    "assert_equal(squares(2), [1, 4])\n",
    "assert_equal(squares(10), [1, 4, 9, 16, 25, 36, 49, 64, 81, 100])\n",
    "assert_equal(squares(11), [1, 4, 9, 16, 25, 36, 49, 64, 81, 100, 121])"
   ]
  },
  {
   "cell_type": "markdown",
   "metadata": {},
   "source": [
    "### Objects\n",
    "In the below cells we will be using an Object. The class will be created in the background but the below will just get you comfortable using the methods that are associated with an object. It might feel familiar to you since we use objects often without even realising. If you have ever used pandas DataFrames, you are actually working with an object (of the class DataFrame)"
   ]
  },
  {
   "cell_type": "markdown",
   "metadata": {},
   "source": [
    "The object we will be working with is built off a simple concept: a pen. We have a pen that can move across a page and we need to tell it what to do using the methods: forward(), back(), left(), right(), penup(), pendown()"
   ]
  },
  {
   "cell_type": "code",
   "execution_count": 1,
   "metadata": {
    "deletable": false,
    "editable": false,
    "nbgrader": {
     "checksum": "0a2213a9d86e8360734b1dbfcf6809bb",
     "grade": false,
     "grade_id": "turtle_class",
     "locked": true,
     "schema_version": 1,
     "solution": false
    }
   },
   "outputs": [],
   "source": [
    "\n",
    "import sys, os, math, random, functools\n",
    "\n",
    "import numpy as np\n",
    "\n",
    "import matplotlib\n",
    "import matplotlib.pyplot as pp\n",
    "import matplotlib.animation as anim\n",
    "\n",
    "from IPython.display import display, HTML\n",
    "\n",
    "class Pen(object):\n",
    "    deg = math.pi/180.0\n",
    "    \n",
    "    def __init__(self,paper,colour='b'):\n",
    "        # initialize state\n",
    "        self.pos = (0,0)\n",
    "        self.draw = True \n",
    "        self.angle = 0\n",
    "        \n",
    "        self.axes = paper.axes\n",
    "        self.color = colour\n",
    "        \n",
    "    def forward(self,distance):\n",
    "        # compute new position\n",
    "        posnew = (self.pos[0] + distance*math.cos(self.deg * self.angle),\n",
    "                  self.pos[1] + distance*math.sin(self.deg * self.angle))\n",
    "        \n",
    "        # draw line if pen is down\n",
    "        if self.draw:\n",
    "            line2d = pp.Line2D((self.pos[0],posnew[0]),(self.pos[1],posnew[1]),color=self.color)\n",
    "            self.axes.add_line(line2d) # 1\n",
    "        \n",
    "        self.pos = posnew\n",
    "\n",
    "    def back(self,distance):\n",
    "        self.forward(-distance)            \n",
    "            \n",
    "    def left(self,angle):\n",
    "        # change state\n",
    "         self.angle = (self.angle + angle) % 360.0\n",
    "\n",
    "    def right(self,angle):\n",
    "        # change state\n",
    "         self.angle = (self.angle - angle) % 360.0\n",
    "            \n",
    "    def penup(self):\n",
    "        # change state\n",
    "        self.draw = False\n",
    "    \n",
    "    def pendown(self):\n",
    "        # change state\n",
    "        self.draw = True\n",
    "    \n",
    "    def point(self,width=2):\n",
    "        circle = pp.Circle(self.pos,width,color=self.color)\n",
    "        self.axes.add_patch(circle)\n",
    "        \n",
    "class animaxes(object):\n",
    "    def __init__(self,fig,axes,duration=1):\n",
    "        self.fig = fig\n",
    "        self.axes = axes\n",
    "        \n",
    "        # grant access to true matplotlib axes to allow Terrarium.rescale()\n",
    "        self.axis = axes.axis\n",
    "        \n",
    "        self.duration = duration        \n",
    "        self.objects = []\n",
    "    \n",
    "    def add_line(self,line):\n",
    "        self.axes.add_line(line)\n",
    "        self.objects.append(line)\n",
    "        \n",
    "    def add_patch(self,patch):\n",
    "        self.axes.add_patch(patch)\n",
    "        self.objects.append(patch)\n",
    "        \n",
    "    def animate(self,i):\n",
    "        for obj in self.objects[i*self.dt:(i+1)*self.dt]:\n",
    "            if isinstance(obj,matplotlib.lines.Line2D):\n",
    "                self.axes.add_line(obj)\n",
    "            else:\n",
    "                self.axes.add_patch(obj)\n",
    "    \n",
    "    def animation(self):\n",
    "        self.dt = max(1,int(len(self.objects) / (self.duration * 30)))\n",
    "        n = math.ceil(len(self.objects) / self.dt)        \n",
    "        rate = self.duration * 1000 / n\n",
    "        \n",
    "        self.axes.clear()\n",
    "        self.axes.set_xticks([])\n",
    "        self.axes.set_yticks([])\n",
    "        for spine in ['bottom','top','left','right']:\n",
    "            self.axes.spines[spine].set_color('0.9')\n",
    "        \n",
    "        return matplotlib.animation.FuncAnimation(self.fig,self.animate,blit=False,frames=n,interval=rate,repeat=False)    \n",
    "    \n",
    "class Paper(object):    \n",
    "    def __init__(self,figsize=5,animate=False,duration=2): # by default, a little larger\n",
    "        self.fig = pp.figure(figsize=(figsize,figsize))\n",
    "        self.axes = pp.axes()\n",
    "        \n",
    "        self.axes.set_xticks([])\n",
    "        self.axes.set_yticks([])\n",
    "        for spine in ['bottom','top','left','right']:\n",
    "            self.axes.spines[spine].set_color('0.9')\n",
    "        \n",
    "        if animate:\n",
    "            self.axes = animaxes(self.fig,self.axes,duration)\n",
    "\n",
    "    def rescale(self):\n",
    "        self.axes.axis('scaled')\n",
    "\n",
    "        xmin, xmax, ymin, ymax = self.axes.axis()\n",
    "        dx = (xmax - xmin) / 50\n",
    "        self.axes.axis([xmin - dx,xmax + dx,ymin - dx,ymax + dx])\n",
    "            \n",
    "    def __enter__(self):\n",
    "        return self\n",
    "    \n",
    "    def __exit__(self,*args):\n",
    "        self.rescale()\n",
    "        \n",
    "        if isinstance(self.axes,animaxes):\n",
    "            anim = self.axes.animation()\n",
    "            display(HTML(anim.to_html5_video()))\n",
    "            pp.close()\n",
    "\n",
    "# Ref: https://www.linkedin.com/learning/python-programming-efficiently/divide-and-conquer-with-python-classes?u=2040068"
   ]
  },
  {
   "cell_type": "code",
   "execution_count": 3,
   "metadata": {},
   "outputs": [
    {
     "data": {
      "image/png": "[encoded data removed]",
      "text/plain": [
       "<Figure size 360x360 with 1 Axes>"
      ]
     },
     "metadata": {},
     "output_type": "display_data"
    }
   ],
   "source": [
    "t = Paper() # Create a piece of paper (an object that allows us to draw in a space)\n",
    "\n",
    "t1 = Pen(t) # Create a pen - default colour blue (an object that draws in the space passed to it)\n",
    "\n",
    "# t1 = Pen(t, colour='r')  # would make a red pen\n",
    "\n",
    "t1.forward(100) # The method in the Pen object that moves the pen forward 100 pixels\n",
    "t1.left(90)     # Method that rotates pen 90 degrees left\n",
    "t1.forward(150)\n",
    "t1.right(45)\n",
    "t1.back(100)    # Moves pen backwards, even though it is facing NE, it will draw SW\n",
    "\n",
    "t.rescale()     # A method in Paper that rescales the paper to fit all the drawings"
   ]
  },
  {
   "cell_type": "markdown",
   "metadata": {},
   "source": [
    "![test](test.PNG)"
   ]
  },
  {
   "cell_type": "code",
   "execution_count": 4,
   "metadata": {
    "deletable": false,
    "nbgrader": {
     "checksum": "5d4ed49bb334d5d69267b1db461fb767",
     "grade": true,
     "grade_id": "cell-338f4ee3507d78d9",
     "locked": false,
     "points": 0,
     "schema_version": 1,
     "solution": true
    }
   },
   "outputs": [
    {
     "data": {
      "image/png": "[encoded data removed]",
      "text/plain": [
       "<Figure size 360x360 with 1 Axes>"
      ]
     },
     "metadata": {},
     "output_type": "display_data"
    }
   ],
   "source": [
    "\n",
    "# YOUR CODE HERE\n",
    "p = Paper()\n",
    "\n",
    "pen1 = Pen(p, colour='r') # red pen\n",
    "pen2 = Pen(p, colour='g') # green pen\n",
    "pen3 = Pen(p, colour='b') # blue pen\n",
    "\n",
    "pen1.left(90)\n",
    "pen1.forward(150)\n",
    "pen1.right(90)\n",
    "pen1.forward(100)\n",
    "\n",
    "pen3.forward(100)\n",
    "pen3.left(90)\n",
    "pen3.forward(150)\n",
    "\n",
    "pen2.left(56.45)\n",
    "pen2.forward(180.27)\n",
    "\n",
    "p.rescale()"
   ]
  },
  {
   "cell_type": "code",
   "execution_count": 5,
   "metadata": {},
   "outputs": [],
   "source": [
    "# A recursive function to draw a Koch\n",
    "# This shows how creating something fairly complex can be made easy with objects\n",
    "def drawkoch(pen,distance,level):\n",
    "    \n",
    "    if level == 0:\n",
    "        # At the base of the recursion: draw a line\n",
    "        pen.forward(distance)\n",
    "        \n",
    "    else:\n",
    "        # Go one level down in the koch recursion and shorten the line \n",
    "        # (can be seen as creating a ratio of koch level to line length)\n",
    "        drawkoch(pen,distance/3,level-1)\n",
    "        \n",
    "        # Rotate pen\n",
    "        pen.left(60)\n",
    "        \n",
    "        # Repeat\n",
    "        drawkoch(pen,distance/3,level-1)\n",
    "        pen.left(-120)\n",
    "        drawkoch(pen,distance/3,level-1)\n",
    "        pen.left(60)\n",
    "        drawkoch(pen,distance/3,level-1)"
   ]
  },
  {
   "cell_type": "code",
   "execution_count": 6,
   "metadata": {},
   "outputs": [
    {
     "data": {
      "image/png": "[encoded data removed]",
      "text/plain": [
       "<Figure size 360x360 with 1 Axes>"
      ]
     },
     "metadata": {},
     "output_type": "display_data"
    }
   ],
   "source": [
    "# Level 0, as expected, just a line\n",
    "with Paper() as t:\n",
    "    drawkoch(Pen(t),100,0)"
   ]
  },
  {
   "cell_type": "code",
   "execution_count": 22,
   "metadata": {},
   "outputs": [
    {
     "data": {
      "image/png": "[encoded data removed]",
      "text/plain": [
       "<Figure size 360x360 with 1 Axes>"
      ]
     },
     "metadata": {},
     "output_type": "display_data"
    }
   ],
   "source": [
    "# Level 1, 4 lines, each is 3rd as long as the original line\n",
    "with Paper() as t:\n",
    "    drawkoch(Pen(t),100,1)"
   ]
  },
  {
   "cell_type": "code",
   "execution_count": 23,
   "metadata": {},
   "outputs": [
    {
     "data": {
      "image/png": "[encoded data removed]",
      "text/plain": [
       "<Figure size 360x360 with 1 Axes>"
      ]
     },
     "metadata": {},
     "output_type": "display_data"
    }
   ],
   "source": [
    "# Level 2, 16 lines, each is 9th as long as the original line\n",
    "with Paper() as t:\n",
    "    drawkoch(Pen(t),100,2)"
   ]
  },
  {
   "cell_type": "code",
   "execution_count": 24,
   "metadata": {},
   "outputs": [
    {
     "data": {
      "image/png": "[encoded data removed]",
      "text/plain": [
       "<Figure size 360x360 with 1 Axes>"
      ]
     },
     "metadata": {},
     "output_type": "display_data"
    }
   ],
   "source": [
    "# Level 4, 256 lines, each is 81th as long as the original line\n",
    "with Paper() as t:\n",
    "    drawkoch(Pen(t),100,4)"
   ]
  },
  {
   "cell_type": "code",
   "execution_count": 25,
   "metadata": {},
   "outputs": [],
   "source": [
    "# Creating a function that uses the drawkoch() function which then draws a snowflake\n",
    "def snowflake(pen,dist,level):\n",
    "    for i in range(3):\n",
    "        drawkoch(pen,dist,level)\n",
    "        pen.right(120)"
   ]
  },
  {
   "cell_type": "code",
   "execution_count": 28,
   "metadata": {},
   "outputs": [
    {
     "data": {
      "image/png": "[encoded data removed]",
      "text/plain": [
       "<Figure size 360x360 with 1 Axes>"
      ]
     },
     "metadata": {},
     "output_type": "display_data"
    }
   ],
   "source": [
    "with Paper() as t:\n",
    "    t1 = Pen(t)\n",
    "    snowflake(t1,30,3)\n",
    "    \n",
    "    # change to \"True\" to see the 3 fractals in the snowflake\n",
    "    if False:                   \n",
    "        t2 = Pen(t, colour='r')\n",
    "        t2.forward(30)\n",
    "        t2.right(120)\n",
    "        t2.forward(30)\n",
    "        t2.right(120)\n",
    "        t2.forward(30)"
   ]
  },
  {
   "cell_type": "code",
   "execution_count": 29,
   "metadata": {},
   "outputs": [
    {
     "data": {
      "image/png": "[encoded data removed]",
      "text/plain": [
       "<Figure size 360x360 with 1 Axes>"
      ]
     },
     "metadata": {},
     "output_type": "display_data"
    }
   ],
   "source": [
    "# Create multiple snowflakes to make some magic\n",
    "with Paper() as t:\n",
    "    t1 = Pen(t)\n",
    "    \n",
    "    def flake():\n",
    "        snowflake(t1,30,3)\n",
    "        \n",
    "    def left():\n",
    "        t1.left(60)\n",
    "    \n",
    "    for f in [flake,left] * 6:\n",
    "        f()"
   ]
  },
  {
   "cell_type": "markdown",
   "metadata": {},
   "source": [
    "#### Recap\n",
    "Objects have methods associated with them that allow them to manipulate and return the data stored within the object. Each object will have the same types of data but each can be different (like the different coloured pens). Once an object has been created, it is easy to use and even wrap in functions to get more out of them. \n",
    "If object are still a little foreign to you, we will now see how they are created (not just called) using **Classes** and how to set up the data and methods associated with an object."
   ]
  },
  {
   "cell_type": "markdown",
   "metadata": {},
   "source": [
    "### Objects and Classes\n",
    "\n",
    "An object is an instance of a class that the developer creates. It is a container of all inforamtion and methods that relates to the instance. For example: a lottery ticket can be a **class**, it has an id and number associated with it, and a method 'add_numbers'. Every time someone buys a ticket, they enter their numbers and a new ticket **object** is created that stores the id associated with the ticket and what numbers the person chose."
   ]
  },
  {
   "cell_type": "markdown",
   "metadata": {},
   "source": [
    "This might not make that much sense so lets program our LottoTicket class (naming convention of classes is generally Camel Case). In this exercise, you need to add the variables associated with this class (that then each object will have) and complete the member function(/method) \"add_numbers()\". \n",
    "HINT: When an object is created then \"\\_\\_init\\_\\_(self)\" function is automatically called, and then object is passed to itself in the form of \"*self*\". To then access the variables of a class, self.\\<your variable\\> needs to be called. For example, in the Pen class it looks like this: \n",
    "```python\n",
    "class Pen:\n",
    "    def __init__(self,colour='b'):\n",
    "        self.col = colour\n",
    "```\n",
    "Some of the code has been removed for simplicity but this shows the essentials of member variable assertion. When an instance of Pen is created, the object gets passed to itself with the variable \"colour = 'b' \" (which assigns a default value and can be overwritten). \"self.col\" is created and the value 'b' then gets stored there.\n",
    "\n",
    "With that in mind, attempt at completing the exercise below."
   ]
  },
  {
   "cell_type": "code",
   "execution_count": 35,
   "metadata": {
    "deletable": false,
    "nbgrader": {
     "checksum": "b5fbb40c47a1becde1d847188d98d070",
     "grade": false,
     "grade_id": "lotto_ticket_class",
     "locked": false,
     "schema_version": 1,
     "solution": true
    }
   },
   "outputs": [],
   "source": [
    "class LottoTicket:\n",
    "    def __init__(self, ticket_id):\n",
    "        # YOUR CODE HERE\n",
    "        self.id = ticket_id\n",
    "        self.nums = []\n",
    "    def add_numbers(self, numbers):\n",
    "        # YOUR CODE HERE\n",
    "        self.nums = numbers"
   ]
  },
  {
   "cell_type": "code",
   "execution_count": 36,
   "metadata": {
    "deletable": false,
    "editable": false,
    "nbgrader": {
     "checksum": "02f1fcf28b10a1ef5a2c26cf663260ba",
     "grade": true,
     "grade_id": "lotto_ticket_test",
     "locked": true,
     "points": 10,
     "schema_version": 1,
     "solution": false
    }
   },
   "outputs": [],
   "source": [
    "test_ticket = LottoTicket(5)\n",
    "assert_equal(test_ticket.id, 5)\n",
    "assert_equal(test_ticket.nums, [])\n",
    "test_ticket.add_numbers([5, 9, 12, 3, 1, 21])\n",
    "assert_equal(test_ticket.nums, [5, 9, 12, 3, 1, 21])"
   ]
  },
  {
   "cell_type": "code",
   "execution_count": 41,
   "metadata": {},
   "outputs": [
    {
     "name": "stdout",
     "output_type": "stream",
     "text": [
      "My ticket before entering my numbers: []\n",
      "My ticket after entering my numbers: [5, 9, 12, 3, 1, 21]\n"
     ]
    }
   ],
   "source": [
    "# Run this to see if you have programmed it correctly\n",
    "my_ticket = LottoTicket(172638)\n",
    "print(\"My ticket before entering my numbers: {}\".format(my_ticket.nums))\n",
    "my_ticket.add_numbers([5, 9, 12, 3, 1, 21])\n",
    "print(\"My ticket after entering my numbers: {}\".format(my_ticket.nums))"
   ]
  },
  {
   "cell_type": "markdown",
   "metadata": {},
   "source": [
    "This is a very basic but realistic class. There would then be a LottoMachine class that would assign unique IDs to the Tickets and store them in a secure database, which would then be printed on the ticket. Can you think of some methods that would be associated with a LottoMachine class other than \"generate_unique_id()\"? "
   ]
  },
  {
   "cell_type": "markdown",
   "metadata": {},
   "source": [
    "### @classmethod and @staticmethod\n",
    "The method we created in the LottoTicket is known more formally as a member functions or member methods. They are the default and therefore there is no need to state anything when using them. However they are not always the most suitable, let's add a method to the LottoTicket and then explain further."
   ]
  },
  {
   "cell_type": "code",
   "execution_count": 42,
   "metadata": {},
   "outputs": [
    {
     "name": "stdout",
     "output_type": "stream",
     "text": [
      "This is a lotto ticket\n"
     ]
    }
   ],
   "source": [
    "class LottoTicket:\n",
    "    def __init__(self):\n",
    "        self.nums = [3, 7, 13, 22, 42, 56]\n",
    "    \n",
    "    def printTicketType(self):\n",
    "        print (\"This is a lotto ticket\")\n",
    "\n",
    "# Main\n",
    "ticket = LottoTicket()\n",
    "ticket.printTicketType()"
   ]
  },
  {
   "cell_type": "markdown",
   "metadata": {},
   "source": [
    "An important nugget of info is that whenever a member function of an object is called in python, the object gets passed to the function - hence, always starting a method with *self*. However, in this new method we've created, we never use any of the data stored within the object. Therefore we can rather do this:"
   ]
  },
  {
   "cell_type": "code",
   "execution_count": 43,
   "metadata": {},
   "outputs": [
    {
     "name": "stdout",
     "output_type": "stream",
     "text": [
      "This is a lotto ticket\n"
     ]
    }
   ],
   "source": [
    "class LottoTicket:\n",
    "    def __init__(self):\n",
    "        self.nums = [3, 7, 13, 22, 42, 56]\n",
    "    \n",
    "    @classmethod\n",
    "    def printTicketType(cls):\n",
    "        print (\"This is a lotto ticket\")\n",
    "\n",
    "# Main\n",
    "ticket = LottoTicket()\n",
    "ticket.printTicketType()"
   ]
  },
  {
   "cell_type": "markdown",
   "metadata": {},
   "source": [
    "This \"wraps\" (important word for later) the method and so the python interpreter knows that when the method is called, don't pass the object to the function. However, this wrapper still passes something. What do you presume it passes? And still nothing is getting used in the method, so it need not pass anything. This is more formally known as a static method. Therefore, we can do the following (note: the class method has been changed to a more appropriate implementation, and the static method has no parameters) "
   ]
  },
  {
   "cell_type": "code",
   "execution_count": 50,
   "metadata": {},
   "outputs": [
    {
     "name": "stdout",
     "output_type": "stream",
     "text": [
      "This is a lotto ticket\n",
      "This is a ticket from the 'lotto' class\n"
     ]
    }
   ],
   "source": [
    "class LottoTicket:\n",
    "    ticket_type = 'lotto'\n",
    "    \n",
    "    def __init__(self):\n",
    "        self.nums = [3, 7, 13, 22, 42, 56]\n",
    "    \n",
    "    @staticmethod\n",
    "    def printTicketType():\n",
    "        print (\"This is a lotto ticket\")\n",
    "    \n",
    "    @classmethod\n",
    "    def printTicketClassType(cls):\n",
    "        print (\"This is a ticket from the '{}' class\".format(cls.ticket_type))\n",
    "\n",
    "# Main\n",
    "ticket = LottoTicket()\n",
    "ticket.printTicketType()\n",
    "ticket.printTicketClassType()"
   ]
  },
  {
   "cell_type": "markdown",
   "metadata": {},
   "source": [
    "#### Recap\n",
    "When defining methods in a class, the methods are 'sluggish' and able to access all data since the object is passed to the method by default. It is good programming practice to make class and static methods when required."
   ]
  },
  {
   "cell_type": "markdown",
   "metadata": {},
   "source": [
    "### Inheritance\n",
    "Inheritance is the idea of reusing a class's code and structure inside another object. Essentially to re-use code (good programming practice: waste not) and to show strong relationships between classes. First an example using the Pen class and then an exercise that builds off out LottoTicket class."
   ]
  },
  {
   "cell_type": "markdown",
   "metadata": {},
   "source": [
    "Since code has been written to draw straight lines, it would be a shame to re-write a whole bunch of new code to draw messy lines (don't even think about copy-paste: swear words in the coding community). It would make much more sense to re-use the already written code, and just add some noise to the line as it is drawn. This can easily be done with inheritance like so:"
   ]
  },
  {
   "cell_type": "code",
   "execution_count": 51,
   "metadata": {},
   "outputs": [],
   "source": [
    "class MessyPen(Pen):\n",
    "    \n",
    "    \n",
    "    \n",
    "    def forward(self,distance):\n",
    "        self.right(random.uniform(-10,10))\n",
    "        super().forward(random.uniform(0.75,1.25)*distance)"
   ]
  },
  {
   "cell_type": "code",
   "execution_count": 56,
   "metadata": {},
   "outputs": [
    {
     "data": {
      "image/png": "[encoded data removed]",
      "text/plain": [
       "<Figure size 360x360 with 1 Axes>"
      ]
     },
     "metadata": {},
     "output_type": "display_data"
    }
   ],
   "source": [
    "with Paper() as t:\n",
    "    t1 = MessyPen(t)\n",
    "    \n",
    "    for i in range(200):\n",
    "        t1.forward(1)"
   ]
  },
  {
   "cell_type": "markdown",
   "metadata": {},
   "source": [
    "Ok, so lets unpack this:\n",
    "We define a new classe \"MessyPen\". When we create it, we pass the \"Pen\" class, this is what tells python we are using inheritance. This means that everything in the Pen class gets re-defined in the MessyPen class. We don't define another \\_\\_init\\_\\_ since it will be the same as the Pen class. We can change colour, direction and move backwards as if we were using the Pen class (see below). However, we have overwritten the forward() method (NOTE: we call the Pen forward() method by using the \"super()\" function) so whenever forward is called on a MessyPen object, it will use this new forward() method. Essentially all this method is doing is adding random noise to rotation and distance traveled by the pen."
   ]
  },
  {
   "cell_type": "code",
   "execution_count": 57,
   "metadata": {},
   "outputs": [
    {
     "data": {
      "image/png": "[encoded data removed]",
      "text/plain": [
       "<Figure size 360x360 with 1 Axes>"
      ]
     },
     "metadata": {},
     "output_type": "display_data"
    }
   ],
   "source": [
    "with Paper() as t:\n",
    "    t1 = MessyPen(t, colour='r')\n",
    "    \n",
    "    t1.left(20)\n",
    "    for i in range(200):\n",
    "        t1.forward(1)\n",
    "    t1.right(45)\n",
    "    t1.back(40)\n",
    "    t1.left(45)\n",
    "    for i in range(50):\n",
    "        t1.forward(1)"
   ]
  },
  {
   "cell_type": "markdown",
   "metadata": {},
   "source": [
    "As fun as it is to draw pictures, let's go back to the basic LottoTicket and create a class for lotto tickets that include a bonus number. This can be done in multiple ways (like re-writing the add_numbers() function) but rather create a new method that appends a bonus number to the end of the current numbers, called add_bonus_number()."
   ]
  },
  {
   "cell_type": "code",
   "execution_count": 58,
   "metadata": {},
   "outputs": [],
   "source": [
    "class LottoTicket:\n",
    "    def __init__(self, ticket_id):\n",
    "        self.id = ticket_id\n",
    "        self.nums = []\n",
    "    def add_numbers(self, numbers):\n",
    "        self.nums = numbers"
   ]
  },
  {
   "cell_type": "code",
   "execution_count": 61,
   "metadata": {
    "deletable": false,
    "nbgrader": {
     "checksum": "42312df5365bb22a328f92326562ad34",
     "grade": false,
     "grade_id": "bonus_lotto_ticket",
     "locked": false,
     "schema_version": 1,
     "solution": true
    }
   },
   "outputs": [],
   "source": [
    "class BonusLottoTicket(LottoTicket):\n",
    "    \n",
    "    def add_bonus_number(self, bonus_num):\n",
    "        # YOUR CODE HERE\n",
    "        self.nums.append(bonus_num)"
   ]
  },
  {
   "cell_type": "code",
   "execution_count": 62,
   "metadata": {
    "deletable": false,
    "editable": false,
    "nbgrader": {
     "checksum": "f682917b02be07b1f633972958a91dc6",
     "grade": true,
     "grade_id": "bonus_lotto_ticket_test",
     "locked": true,
     "points": 10,
     "schema_version": 1,
     "solution": false
    }
   },
   "outputs": [],
   "source": [
    "test_ticket = BonusLottoTicket(2)\n",
    "assert_equal(test_ticket.id, 2)\n",
    "assert_equal(test_ticket.nums, [])\n",
    "test_ticket.add_numbers([5, 9, 12, 3, 1, 21])\n",
    "assert_equal(test_ticket.nums, [5, 9, 12, 3, 1, 21])\n",
    "test_ticket.add_bonus_number(42)\n",
    "assert_equal(test_ticket.nums, [5, 9, 12, 3, 1, 21, 42])"
   ]
  },
  {
   "cell_type": "code",
   "execution_count": 63,
   "metadata": {},
   "outputs": [
    {
     "name": "stdout",
     "output_type": "stream",
     "text": [
      "My ticket before entering my numbers: []\n",
      "My ticket after entering my numbers: [13, 7, 23, 44, 1, 22]\n",
      "My ticket with bonus number: [13, 7, 23, 44, 1, 22, 42]\n"
     ]
    }
   ],
   "source": [
    "# Run this to see if you have programmed it correctly\n",
    "my_ticket = BonusLottoTicket(46664)\n",
    "print(\"My ticket before entering my numbers: {}\".format(my_ticket.nums))\n",
    "my_ticket.add_numbers([13, 7, 23, 44, 1, 22])\n",
    "print(\"My ticket after entering my numbers: {}\".format(my_ticket.nums))\n",
    "my_ticket.add_bonus_number(42)\n",
    "print(\"My ticket with bonus number: {}\".format(my_ticket.nums))"
   ]
  },
  {
   "cell_type": "markdown",
   "metadata": {},
   "source": [
    "#### Recap\n",
    "\n",
    "Inheritence actually inherits all of the \"parent\" class's code. If no code is written inside the \"child\" class, they will be identical. However, slight mutations are introduced to add new/alter functionality of the parent class. This support the good coding practice of re-use and it makes for better interoperability (which lends to maintainability of code)"
   ]
  },
  {
   "cell_type": "markdown",
   "metadata": {},
   "source": [
    "### \\*args and \\*\\*kwargs\n",
    "The weird variables that most people have seen before but not actually completely sure how they work. They read up on stack overflow once but wouldn't say they're comfortable using them. Well that's all about to change. First look at this example:"
   ]
  },
  {
   "cell_type": "code",
   "execution_count": 64,
   "metadata": {},
   "outputs": [
    {
     "name": "stdout",
     "output_type": "stream",
     "text": [
      "The sum of 5 and 6 is 11\n"
     ]
    }
   ],
   "source": [
    "def a_summing_func(a, b):\n",
    "    return a+b\n",
    "\n",
    "print(\"The sum of 5 and 6 is {}\".format(a_summing_func(5, 6)))"
   ]
  },
  {
   "cell_type": "markdown",
   "metadata": {},
   "source": [
    "What's so great about this? Well for one, it's restricted to summing 2 numbers. Sure if we wanted to sum lots of numbers we could do something like:"
   ]
  },
  {
   "cell_type": "code",
   "execution_count": 65,
   "metadata": {},
   "outputs": [
    {
     "name": "stdout",
     "output_type": "stream",
     "text": [
      "The sum of all the numbers is 156\n"
     ]
    }
   ],
   "source": [
    "def sum_all_the_nums(a, b, c, d, e, f, g):\n",
    "    return a + b + c + d + e + f + g\n",
    "\n",
    "print(\"The sum of all the numbers is {}\".format(sum_all_the_nums(5, 6, 11, 4, 24, 6, 100)))"
   ]
  },
  {
   "cell_type": "markdown",
   "metadata": {},
   "source": [
    "This is clunky and, sure, it's ridiculous since we would very seldomly do this, but the fact stands that often we want to pass a certain numbers of *arguments* to a function and the function should be able to deal with how ever many we send. This is where \\*args comes in, like so:"
   ]
  },
  {
   "cell_type": "code",
   "execution_count": 66,
   "metadata": {},
   "outputs": [
    {
     "name": "stdout",
     "output_type": "stream",
     "text": [
      "(5, 6, 11, 4, 24, 6, 100, 3, 1, 5, 3)\n",
      "The sum of all the numbers is 168\n"
     ]
    }
   ],
   "source": [
    "def addition_simplified(*args):\n",
    "    print(args)\n",
    "    return sum(args)\n",
    "\n",
    "print(\"The sum of all the numbers is {}\".format(addition_simplified(5, 6, 11, 4, 24, 6, 100, 3, 1, 5, 3)))"
   ]
  },
  {
   "cell_type": "markdown",
   "metadata": {},
   "source": [
    "The first line shows that python creates a tuple of all the arguments passed to the function. Tuples are immutable, easy-to-access containers that makes accessing all the arguments passed to a function much smoother.\n",
    "\n",
    "\\*\\*kwargs on the other hand stand for keyword arguments. This is important for when the **order** of arguments being passed is not enforced and rather the arguments is identified by a keyword. As follows:"
   ]
  },
  {
   "cell_type": "code",
   "execution_count": 68,
   "metadata": {},
   "outputs": [
    {
     "name": "stdout",
     "output_type": "stream",
     "text": [
      "(12, 34, 56)\n",
      "{'name': 'Louise', 'location': 'UK', 'gender': 'Other'}\n"
     ]
    }
   ],
   "source": [
    "def what_are_kwargs(*args, **kwargs):\n",
    "    print(args)\n",
    "    print(kwargs)\n",
    "\n",
    "what_are_kwargs(12, 34, 56, name='Louise', location='UK', gender='Other')"
   ]
  },
  {
   "cell_type": "markdown",
   "metadata": {},
   "source": [
    "As can be seen, keyword arguments are put into a dictionary - another easy-to-use container that has keyword identifiers.\n",
    "Note: keyword arguments must always come last, don't mix them all up in between each other. Full order is:\n",
    "1. formal positional arguments\n",
    "2. \\*args\n",
    "3. keyword arguments\n",
    "4. \\*\\*kwargs\n",
    "\n",
    "This may seem like a novel example, but it more in-depth OO applications, the use of \\*args and \\*\\*kwargs is extensive."
   ]
  },
  {
   "cell_type": "markdown",
   "metadata": {},
   "source": [
    "#### Recap\n",
    "\\*args and \\*\\*kwargs are best suited when the number of arguments getting passed to a function/class are unknown or varying depnding on where they're called from and for what they get used."
   ]
  },
  {
   "cell_type": "markdown",
   "metadata": {},
   "source": [
    "### Decorators\n",
    "We have already touched on decorators (@classmethod and @staticmethod) however there are ways of writing our own. As with the previous section, this part might seem a bit confusing and like it doesn't fit nicely. However, they get used often, especially in larger applications. Take my word for it, try absorb/decrypt as much as you can, so that when you come across a decorator, you'll be more comfortable with them."
   ]
  },
  {
   "cell_type": "markdown",
   "metadata": {},
   "source": [
    "Decorators wrap (I told you to remember this word) functions within functions. They direct different functions to follow certain flows and bring in extra code into functions which allow for less code re-use. Put nicely: \n",
    "\n",
    "> \"In the context of design patterns, decorators dynamically alter the functionality of a function, method or class without having to directly use subclasses.\" [ref](https://www.thecodeship.com/patterns/guide-to-python-function-decorators/)\n",
    "\n",
    "Before we jump into Decorators, some things you can do with python that you need to know first:"
   ]
  },
  {
   "cell_type": "code",
   "execution_count": 69,
   "metadata": {},
   "outputs": [
    {
     "name": "stdout",
     "output_type": "stream",
     "text": [
      "<function greet at 0x7f5a04a31950>\n",
      "Hello Tim\n"
     ]
    }
   ],
   "source": [
    "# Assign functions to variables\n",
    "\n",
    "def greet(name):\n",
    "    return \"Hello \"+name\n",
    "\n",
    "greet_someone = greet\n",
    "print(greet_someone)\n",
    "print(greet_someone(\"Tim\"))"
   ]
  },
  {
   "cell_type": "code",
   "execution_count": 70,
   "metadata": {},
   "outputs": [
    {
     "name": "stdout",
     "output_type": "stream",
     "text": [
      "Hello Alex\n"
     ]
    }
   ],
   "source": [
    "# Define functions inside other functions\n",
    "\n",
    "def greet(name):\n",
    "    def get_message():\n",
    "        return \"Hello \"\n",
    "\n",
    "    result = get_message()+name\n",
    "    return result\n",
    "\n",
    "print(greet(\"Alex\"))"
   ]
  },
  {
   "cell_type": "code",
   "execution_count": 71,
   "metadata": {},
   "outputs": [
    {
     "name": "stdout",
     "output_type": "stream",
     "text": [
      "Hello Marc\n"
     ]
    }
   ],
   "source": [
    "# Functions can be passed as parameters to other functions\n",
    "\n",
    "def greet(name):\n",
    "   return \"Hello \" + name \n",
    "\n",
    "def call_func(func):\n",
    "    other_name = \"Marc\"\n",
    "    return func(other_name)  \n",
    "\n",
    "print(call_func(greet))"
   ]
  },
  {
   "cell_type": "code",
   "execution_count": 74,
   "metadata": {},
   "outputs": [
    {
     "name": "stdout",
     "output_type": "stream",
     "text": [
      "Hello Riaan ☀\n"
     ]
    }
   ],
   "source": [
    "# Functions can return other functions (i.e. functions generate other functions)\n",
    "\n",
    "def compose_greet_func():\n",
    "    def get_message():\n",
    "        return \"Hello Riaan ☀\"\n",
    "\n",
    "    return get_message\n",
    "\n",
    "greet = compose_greet_func()\n",
    "print(greet())"
   ]
  },
  {
   "cell_type": "code",
   "execution_count": 75,
   "metadata": {},
   "outputs": [
    {
     "name": "stdout",
     "output_type": "stream",
     "text": [
      "Hello there Marinda!\n"
     ]
    }
   ],
   "source": [
    "# Inner functions have access to the enclosing scope\n",
    "# Note python only allows read access to outer scope and not manipulation\n",
    "\n",
    "def compose_greet_func(name):\n",
    "    def get_message():\n",
    "        return \"Hello there \" + name + \"!\"\n",
    "\n",
    "    return get_message\n",
    "\n",
    "greet = compose_greet_func(\"Marinda\")\n",
    "print(greet())"
   ]
  },
  {
   "cell_type": "markdown",
   "metadata": {},
   "source": [
    "Now that we know these things, let's dive right in: define a decorator and apply it to a function:"
   ]
  },
  {
   "cell_type": "code",
   "execution_count": 76,
   "metadata": {},
   "outputs": [
    {
     "name": "stdout",
     "output_type": "stream",
     "text": [
      "In the decorator!\n",
      "I'm the function!\n",
      "After the decorator!\n"
     ]
    }
   ],
   "source": [
    "def my_decorator(func):\n",
    "    def function_that_runs_func():\n",
    "        print(\"In the decorator!\")\n",
    "        func()\n",
    "        print(\"After the decorator!\")\n",
    "    return function_that_runs_func\n",
    "\n",
    "@my_decorator\n",
    "def my_function():\n",
    "    print(\"I'm the function!\")\n",
    "\n",
    "my_function()"
   ]
  },
  {
   "cell_type": "code",
   "execution_count": 78,
   "metadata": {},
   "outputs": [
    {
     "name": "stdout",
     "output_type": "stream",
     "text": [
      "in the decorator!\n",
      "124\n",
      "after the decorator!\n"
     ]
    }
   ],
   "source": [
    "def decorator_with_args(number):\n",
    "    def my_decorator(func):\n",
    "        def function_that_runs_func(*args, **kwargs):\n",
    "            print(\"in the decorator!\")\n",
    "            if number == 56:\n",
    "                print(\"Not running the function\")\n",
    "            else:\n",
    "                func(*args, **kwargs)\n",
    "            print(\"after the decorator!\")\n",
    "        return function_that_runs_func\n",
    "    return my_decorator\n",
    "\n",
    "@decorator_with_args(1)\n",
    "def my_second_function(x, y):\n",
    "    print(x+y)\n",
    "\n",
    "my_second_function(57, 67)"
   ]
  },
  {
   "cell_type": "markdown",
   "metadata": {},
   "source": [
    "This has been left to last (and hopefully we get this far) to discuss - it's not the most intuitive and this might look like something you'll never use, but they become very convenient when designing large apps."
   ]
  },
  {
   "cell_type": "markdown",
   "metadata": {},
   "source": [
    "If you have any questions, now is the time to ask"
   ]
  },
  {
   "cell_type": "markdown",
   "metadata": {},
   "source": [
    "Otherwise, thanks for joining and I hope you now have a better grasp of objects and how to use them. This notebook is available to anyone that would like a copy."
   ]
  },
  {
   "cell_type": "markdown",
   "metadata": {},
   "source": [
    "![thanks](https://media2.giphy.com/media/3oEdva9BUHPIs2SkGk/giphy.gif?cid=3640f6095c5ad3b568576c7967ad68ca.gif \"thanks\")"
   ]
  }
 ],
 "metadata": {
  "kernelspec": {
   "display_name": "Python 3",
   "language": "python",
   "name": "python3"
  },
  "language_info": {
   "codemirror_mode": {
    "name": "ipython",
    "version": 3
   },
   "file_extension": ".py",
   "mimetype": "text/x-python",
   "name": "python",
   "nbconvert_exporter": "python",
   "pygments_lexer": "ipython3",
   "version": "3.7.1"
  }
 },
 "nbformat": 4,
 "nbformat_minor": 2
}
